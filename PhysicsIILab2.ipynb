{
  "nbformat": 4,
  "nbformat_minor": 0,
  "metadata": {
    "colab": {
      "provenance": [],
      "collapsed_sections": [],
      "authorship_tag": "ABX9TyO5nG3+0PPc0p6ZS8VcV0XF",
      "include_colab_link": true
    },
    "kernelspec": {
      "name": "python3",
      "display_name": "Python 3"
    },
    "language_info": {
      "name": "python"
    }
  },
  "cells": [
    {
      "cell_type": "markdown",
      "metadata": {
        "id": "view-in-github",
        "colab_type": "text"
      },
      "source": [
        "<a href=\"https://colab.research.google.com/github/Johnnykoch02/GoogleCollabStuff/blob/main/PhysicsIILab2.ipynb\" target=\"_parent\"><img src=\"https://colab.research.google.com/assets/colab-badge.svg\" alt=\"Open In Colab\"/></a>"
      ]
    },
    {
      "cell_type": "code",
      "execution_count": 2,
      "metadata": {
        "id": "QVnvVqQ9j8kz"
      },
      "outputs": [],
      "source": [
        "import matplotlib.pyplot as plt\n",
        "import numpy as np"
      ]
    },
    {
      "cell_type": "code",
      "source": [
        "def Linest(x, y):\n",
        "  n = len(y)\n",
        "  dofreedom = n-2\n",
        "\n",
        "  z, cov = np.polyfit(x,y,1,cov=True)\n",
        "  p = np.poly1d(z)\n",
        "  yp = p(x) #predicted y values based on fit\n",
        "  slope = z[0]\n",
        "  intercept = z[1]\n",
        "  r2 = np.corrcoef(x,y)[0][1]**2\n",
        "  regression_ss = np.sum( (yp-np.mean(y))**2)\n",
        "  residual_ss = np.sum( (y-yp)**2 )\n",
        "  slope_pm = np.sqrt(residual_ss / (dofreedom*np.sum(np.square((x-np.mean(x))))))\n",
        "  intercept_pm = slope_pm*np.sqrt(np.sum(np.square(x))/n)\n",
        "  s = np.sqrt(residual_ss/dofreedom)\n",
        "  F = regression_ss/s**2\n",
        "\n",
        "  return [[{'slope':slope}, {'intercept':intercept}],\n",
        "  [{'slope_pm':slope_pm}, {'intercept_pm':intercept_pm}],\n",
        "  [{'r^2':r2}, {'sey':s}],\n",
        "  [{'F':F}, {'deg0fF':dofreedom}],\n",
        "  [{'reg_ss':regression_ss},{'resid_ss':residual_ss}]]"
      ],
      "metadata": {
        "id": "tC5DZp5QhxH7"
      },
      "execution_count": 24,
      "outputs": []
    },
    {
      "cell_type": "code",
      "source": [
        "freq, Period = [42, 62, 81.1,103.09,125.1], [0.699,1.05,1.45,1.69,2.04]\n",
        "V = 57.17\n",
        "#\n",
        "linest_data = Linest(Period, freq)\n",
        "for i in linest_data:\n",
        "  print(\"{}, {}\".format(i[0], i[1]))\n",
        "\n",
        "\n",
        "plt.plot(np.array(Period), freq) "
      ],
      "metadata": {
        "colab": {
          "base_uri": "https://localhost:8080/",
          "height": 369
        },
        "id": "d_LzQKlWkRBT",
        "outputId": "a837bab2-9d0d-4194-ffc9-bacdaf27c713"
      },
      "execution_count": 29,
      "outputs": [
        {
          "output_type": "stream",
          "name": "stdout",
          "text": [
            "{'slope': 61.98022203371982}, {'intercept': -3.2341916943289544}\n",
            "{'slope_pm': 3.484982430859719}, {'intercept_pm': 5.100781293453637}\n",
            "{'r^2': 0.9906045731866148}, {'sey': 3.6701560983352794}\n",
            "{'F': 316.30428064491946}, {'deg0fF': 3}\n",
            "{'reg_ss': 4260.633142641558}, {'resid_ss': 40.410137358442924}\n"
          ]
        },
        {
          "output_type": "execute_result",
          "data": {
            "text/plain": [
              "[<matplotlib.lines.Line2D at 0x7f89f2b12e10>]"
            ]
          },
          "metadata": {},
          "execution_count": 29
        },
        {
          "output_type": "display_data",
          "data": {
            "text/plain": [
              "<Figure size 432x288 with 1 Axes>"
            ],
            "image/png": "[encoded data removed]"
          },
          "metadata": {
            "needs_background": "light"
          }
        }
      ]
    },
    {
      "cell_type": "code",
      "source": [
        "#Mass Per Unit Length\n",
        "mass0fString = 2.3e-3 #kg\n",
        "len0fString = 1.5 #m\n",
        "stringDensity = mass0fString/len0fString\n",
        "print(\"String Density: {:e} Kg / m\".format(stringDensity))"
      ],
      "metadata": {
        "colab": {
          "base_uri": "https://localhost:8080/",
          "height": 0
        },
        "id": "_aZrYiKKrM_v",
        "outputId": "2f275478-e614-4dbd-dfcb-eda9ad32390c"
      },
      "execution_count": 37,
      "outputs": [
        {
          "output_type": "stream",
          "name": "stdout",
          "text": [
            "String Density: 1.533333e-03 Kg / m\n"
          ]
        }
      ]
    },
    {
      "cell_type": "code",
      "source": [
        "# Force of Tension\n",
        "mass0nString = 0.5 #kg\n",
        "Tension = mass0nString * (9.81) #m/(s^2)\n",
        "print(\"Tension: {:e} Newtons\".format(stringDensity))"
      ],
      "metadata": {
        "id": "B5fR-yjksmDh"
      },
      "execution_count": null,
      "outputs": []
    },
    {
      "cell_type": "code",
      "source": [
        "Velocity = np.sqrt(\n",
        "    Tension / stringDensity\n",
        ") #m/s\n",
        "print(\"Velocity: {:e} Meters / Second\".format(Velocity))"
      ],
      "metadata": {
        "colab": {
          "base_uri": "https://localhost:8080/",
          "height": 0
        },
        "id": "sRroSKo3tZPX",
        "outputId": "0e329568-faae-4583-9410-f984511a8f64"
      },
      "execution_count": 40,
      "outputs": [
        {
          "output_type": "stream",
          "name": "stdout",
          "text": [
            "Velocity: 5.655893e+01 Meters / Second\n"
          ]
        }
      ]
    },
    {
      "cell_type": "code",
      "source": [
        "pctError = (61.9802 - Velocity) / Velocity\n",
        "print(\"Pct Error: {:.2f}%\".format(pctError*100))"
      ],
      "metadata": {
        "colab": {
          "base_uri": "https://localhost:8080/",
          "height": 0
        },
        "id": "T20LWsHuuMA2",
        "outputId": "4f5ff254-3a34-49be-a7c6-ccd9f7ffeef4"
      },
      "execution_count": 43,
      "outputs": [
        {
          "output_type": "stream",
          "name": "stdout",
          "text": [
            "Pct Error: 9.59%\n"
          ]
        }
      ]
    }
  ]
}