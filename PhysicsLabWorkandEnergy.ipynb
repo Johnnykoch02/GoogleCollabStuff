{
  "nbformat": 4,
  "nbformat_minor": 0,
  "metadata": {
    "colab": {
      "name": "PhysicsLabWorkandEnergy.ipynb",
      "provenance": [],
      "collapsed_sections": [],
      "authorship_tag": "ABX9TyOA1zwQdq4r4N6hO54acwF+",
      "include_colab_link": true
    },
    "kernelspec": {
      "name": "python3",
      "display_name": "Python 3"
    },
    "language_info": {
      "name": "python"
    }
  },
  "cells": [
    {
      "cell_type": "markdown",
      "metadata": {
        "id": "view-in-github",
        "colab_type": "text"
      },
      "source": [
        "<a href=\"https://colab.research.google.com/github/Johnnykoch02/GoogleCollabStuff/blob/main/PhysicsLabWorkandEnergy.ipynb\" target=\"_parent\"><img src=\"https://colab.research.google.com/assets/colab-badge.svg\" alt=\"Open In Colab\"/></a>"
      ]
    },
    {
      "cell_type": "code",
      "metadata": {
        "id": "Oj5vHb1zwxWf"
      },
      "source": [
        "import matplotlib.pyplot as plt\n",
        "import numpy as np\n",
        "import pandas as pd\n",
        "\n"
      ],
      "execution_count": 4,
      "outputs": []
    },
    {
      "cell_type": "code",
      "metadata": {
        "colab": {
          "base_uri": "https://localhost:8080/",
          "height": 315
        },
        "id": "BrA2nyMEw153",
        "outputId": "169ce2f9-028a-4501-bed9-cbfd1c106ad8"
      },
      "source": [
        "m = 0.2525 #kg\n",
        "G = 9.81 #M/s^2\n",
        "angle = np.radians(7.0) # +- 0.5 Degrees\n",
        "velocity = np.array([1.013, (-2.338*10**(-6)), -0.851])\n",
        "time = np.array([(0.85-0.65), (1.651-0.65), (2.35-0.65)])\n",
        "distance = np.array([0.2192, 0.6248, 0.3260])\n",
        "height = distance * np.sin(angle)\n",
        "\n",
        "potential_energy = m*G*height\n",
        "kinetic_energy = (1/2) * m * np.square(velocity)\n",
        "total_energy = np.add(potential_energy, kinetic_energy)\n",
        "print(velocity)\n",
        "# print(potential_energy)\n",
        "# print(kinetic_energy)\n",
        "plt.ylabel('Energy (Joules)')\n",
        "plt.xlabel('Time (Seconds)')\n",
        "\n",
        "plt.plot(time, kinetic_energy, color=\"blue\")\n",
        "plt.plot(time, potential_energy,color=\"red\") \n",
        "plt.plot(time, total_energy, color=\"purple\")\n",
        "plt.legend(['kinetic energy', 'potential energy', 'total energy'])\n",
        "print(total_energy)"
      ],
      "execution_count": 5,
      "outputs": [
        {
          "output_type": "stream",
          "name": "stdout",
          "text": [
            "[ 1.013e+00 -2.338e-06 -8.510e-01]\n",
            "[0.19572449 0.18861051 0.18984111]\n"
          ]
        },
        {
          "output_type": "display_data",
          "data": {
            "image/png": "[encoded data removed]",
            "text/plain": [
              "<Figure size 432x288 with 1 Axes>"
            ]
          },
          "metadata": {
            "needs_background": "light"
          }
        }
      ]
    },
    {
      "cell_type": "markdown",
      "metadata": {
        "id": "R2tCZWvJ3Rnv"
      },
      "source": [
        "#<b>Observations:</b>"
      ]
    },
    {
      "cell_type": "code",
      "metadata": {
        "id": "6bysK4Ni3CoB",
        "colab": {
          "base_uri": "https://localhost:8080/"
        },
        "outputId": "e6dccd29-d23f-4800-c4b5-59f17af62464"
      },
      "source": [
        "\n",
        "constant_force = {\n",
        "    'force' : -1.7 ,# N*M \n",
        "    'mass' : 0.2525, # KG\n",
        "    'velocity_i' : 0.469, # M/S\n",
        "    't_1' : 0.0731, #SEC\n",
        "    't_2' : 0.2842, #Sec\n",
        "    'velocity_f' : 0.937, #M/S\n",
        "     \n",
        "}\n",
        "## Add in Work Done By Acceleration from our capstone:\n",
        "constant_force['work_by_acceleration'] = constant_force['mass'] * 0.36 #Newton Meters\n",
        "## Add \n",
        "constant_force['delta_ke'] =   ((1/2)*  constant_force['mass'] * constant_force['velocity_f']**2) - ((1/2) * constant_force['mass'] * constant_force['velocity_i']**2)\n",
        "\n",
        "\n",
        "for x in constant_force:\n",
        "  print('{} : {}'.format(x, constant_force[x]))\n"
      ],
      "execution_count": 6,
      "outputs": [
        {
          "output_type": "stream",
          "name": "stdout",
          "text": [
            "force : -1.7\n",
            "mass : 0.2525\n",
            "velocity_i : 0.469\n",
            "t_1 : 0.0731\n",
            "t_2 : 0.2842\n",
            "velocity_f : 0.937\n",
            "work_by_acceleration : 0.0909\n",
            "delta_ke : 0.08307351000000002\n"
          ]
        }
      ]
    },
    {
      "cell_type": "markdown",
      "metadata": {
        "id": "ufJYmOZNvZiS"
      },
      "source": [
        "### ***1. How does the work done on the cart compare to the objects change in Kinetic energy for each part?***\n",
        "\n",
        "\n",
        "The work done on the object is about equal to the change in kinetic energy in our experiment, and should be perfectly equal in a perfect system, due to the Work Kinetic Energy Thereom\n",
        "\n",
        "\n",
        "\n"
      ]
    },
    {
      "cell_type": "markdown",
      "metadata": {
        "id": "l664J1EV0R3-"
      },
      "source": [
        "## ***2.Did friction play a role? Do you believe you have demonstrated energy conservation and work-energy thereom convincingly?***\n",
        "\n",
        "  I do believe friction played a role, as it plays a role in almost everything including daily life. Friction has to be managed and accounted for, which in this experiement it was. <br>\n",
        "  If you take a look at the plotted Graph of Total energy, you can see that our systems decrease in it was minimal. This decrease would be zero if friction did not play a significant role, however we can say with certianty that energy was conserved in first experiement.<br>\n",
        "  As for the second experiment, our calculated work done from acceleration was essentially equal to the change in kinetic energy. We can say the small difference of about: \n"
      ]
    },
    {
      "cell_type": "code",
      "metadata": {
        "colab": {
          "base_uri": "https://localhost:8080/"
        },
        "id": "QzXtXHgp6743",
        "outputId": "3c024b93-e59d-470d-8191-d0411fecb86e"
      },
      "source": [
        "percent_difference_in_value = (np.fabs(constant_force['delta_ke'] - constant_force['work_by_acceleration'])) / ((constant_force['delta_ke'] + constant_force['work_by_acceleration']) / 2) * 100\n",
        "print('{:.3f}% difference in our two values for Delta KE and Work Done by Acceleration.'.format(percent_difference_in_value))"
      ],
      "execution_count": 10,
      "outputs": [
        {
          "output_type": "stream",
          "name": "stdout",
          "text": [
            "8.997% difference in our two values for Delta KE and Work Done by Acceleration.\n"
          ]
        }
      ]
    },
    {
      "cell_type": "markdown",
      "metadata": {
        "id": "f1VEUGxn95Xq"
      },
      "source": [
        "This is a fair percent difference for a non-perfect system where friction is not negligible. We can clearly observe these values, however, and make a clear connection between the two, and in my opinion, we have proved the W.K.E.T"
      ]
    },
    {
      "cell_type": "markdown",
      "metadata": {
        "id": "OwE--9nD-N1C"
      },
      "source": [
        "## ***3. Imagine you had performed a third trial in which you had pushed the cart from behind rather than pull it by a thread. If the cart started from rest, and the total work done by pushing the force to move the cart was 0.5J, what would be the cart's change in kinetic energy?***\n",
        "\n",
        "In our scenario, the work done by gravity accelerated our cart was equal to the change in kinetic energy, hence proving the Work Kinetic Energy Thereom. If we have a work of 0.5J, we can conclude that in this scenario, the change in Kinetic Energy is equivalent to that of the total work done, and conclude the change in kinetic energy for the system is 0.5J as well.\n"
      ]
    },
    {
      "cell_type": "code",
      "metadata": {
        "id": "PE3_p4jIXl48"
      },
      "source": [
        ""
      ],
      "execution_count": null,
      "outputs": []
    }
  ]
}