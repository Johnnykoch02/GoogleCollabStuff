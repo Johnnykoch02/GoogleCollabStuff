{
  "nbformat": 4,
  "nbformat_minor": 0,
  "metadata": {
    "colab": {
      "name": "Physics II Homework.ipynb",
      "provenance": [],
      "collapsed_sections": [],
      "authorship_tag": "ABX9TyOz3lp4r+lDIZX1ay0+a6QY",
      "include_colab_link": true
    },
    "kernelspec": {
      "name": "python3",
      "display_name": "Python 3"
    },
    "language_info": {
      "name": "python"
    }
  },
  "cells": [
    {
      "cell_type": "markdown",
      "metadata": {
        "id": "view-in-github",
        "colab_type": "text"
      },
      "source": [
        "<a href=\"https://colab.research.google.com/github/Johnnykoch02/GoogleCollabStuff/blob/main/Physics_II_Homework.ipynb\" target=\"_parent\"><img src=\"https://colab.research.google.com/assets/colab-badge.svg\" alt=\"Open In Colab\"/></a>"
      ]
    },
    {
      "cell_type": "code",
      "source": [
        "# Reusable Variables\n",
        "import numpy as np\n",
        "\n",
        "cos, sin, tan, radians, degrees, arccos, arcsin, arctan = np.cos, np.sin, np.tan, np.radians, np.degrees, np.arccos, np.arcsin, np.arctan2\n",
        "\n",
        "### THERMODYNAMICS ###\n",
        "\n",
        "heat_of_vaporization = { # Joules / Kg\n",
        "    \"water\": 2256 * 10**3 \n",
        "}\n",
        "\n",
        "heat_of_fusion = { # Joules / Kg\n",
        "    'water': 334 * 10**3\n",
        "}\n",
        "\n",
        "thermal_conductivity = { # Watts/m*Kelvin\n",
        "    \"steel\": 50.2,\n",
        "    'paper': 0.0500,\n",
        "    'glass': 0.8,\n",
        "    'brass': 109.0,\n",
        "    'copper': 385.0\n",
        "}\n",
        "\n",
        "molar_heat_capacity = {\n",
        "    'water': 4190,\n",
        "    'ice': 2100\n",
        "}\n",
        "\n",
        "Combustion = {\n",
        "    'gas': 4.6 * 10**4\n",
        "}\n",
        "\n",
        "PI = 3.14159\n",
        "StefConst = 5.67 * 10**-8 # W m^-2 k^-4\n",
        "IdealGasConst = 8.314\n",
        "BoltConst = 1.381 * 10 ** -23 # Boltzmann Constant\n",
        "AvogadroConst = 6.02214076 * 10 **23\n",
        "atm = 101000 # Pascals, 1 ATMOSPHERE\n",
        "Cv = {'monotomic':(3/2) * IdealGasConst, 'diatomic': (5/2) * IdealGasConst}\n",
        "Cp = {'monotomic':Cv['monotomic'] + (3/2), 'diatomic': Cv['diatomic'] + (5/2)}\n",
        "\n",
        "### ELECTRICITY AND ELECTRIC FIELDS ###\n",
        "\n",
        "kConstant = 8.99 * 10 **9 # Newtons * meters^2 / Culombs^2\n",
        "\n",
        "def Kelvin(celcious):\n",
        "  return  celcious + 273.15\n",
        "\n",
        "def Celcious(Kelvin):\n",
        "  return Kelvin\t- 273.15\n",
        "\n",
        "\n",
        "class Vector():\n",
        "  '''x and y components OR the length and angle from X-Axis Counter Clockwise'''\n",
        "  def __init__(self,x=0, y=0, length=0, dtheta=0):\n",
        "    if x+y != 0:\n",
        "      self.x = x\n",
        "      self.y = y\n",
        "      self.length = ((self.x**2 + self.y**2)**0.5)\n",
        "      self.dtheta = degrees(arctan(self.y,self.x))\n",
        "    else:\n",
        "      self.length = length\n",
        "      self.dtheta = dtheta\n",
        "      self.x = self.length * cos(radians(dtheta))\n",
        "      self.y = self.length * sin(radians(dtheta))\n",
        "  def plus(self, b):\n",
        "    return Vector(x=self.x+b.x, y=self.y+b.y)\n",
        "\n",
        "  def dot(self, b) -> float:\n",
        "    return (self.x*b.x) + (self.y*b.y)\n",
        "  \n",
        "  def unit_vector(self):\n",
        "    return Vector(x=self.x/self.length, y=self.y/self.length)\n",
        "\n",
        "  def scalar_mult(self, scalar: float):\n",
        "    return Vector(x=self.x*scalar, y=self.y*scalar)\n",
        "\n",
        "  def angle_from_dot(a, b) -> float:\n",
        "    return degrees(arccos((a.dot(b)) / (a.length * b.length) ))\n",
        "  def __str__(self):\n",
        "    return \"i:{}, j:{}, length:{}, theta:{}\".format(self.x, self.y, self.length, self.dtheta)\n",
        "  def __repr__(self):\n",
        "    return \"i:{}, j:{}, length:{}, theta:{}\".format(self.x, self.y, self.length, self.dtheta)\n",
        "\n",
        "\n",
        "degrees(np.arctan2(-0.7,-0.7))"
      ],
      "metadata": {
        "id": "co-g2RPJIU5N",
        "colab": {
          "base_uri": "https://localhost:8080/"
        },
        "outputId": "5f99f65d-adc4-403e-9654-9963b6a23919"
      },
      "execution_count": 1,
      "outputs": [
        {
          "output_type": "execute_result",
          "data": {
            "text/plain": [
              "-135.0"
            ]
          },
          "metadata": {},
          "execution_count": 1
        }
      ]
    },
    {
      "cell_type": "markdown",
      "source": [
        "Three negative point charges lie along a vertical line. The upper charge is 8.00 centimeters above the middle charge, and the middle charge is 8.00 centimeters above the bottom charge. The upper charge is negative 5.00 microcoulombs, the middle charge is negative 2.00 microcoulombs, and the bottom charge is negative 5.00 microcoulombs. Point P is 6.00 centimeters to the right of the middle charge.\n",
        "\n",
        "\n",
        "Part A\n",
        "Find the magnitude of the electric field this combination of charges produces at point P, which lies 6.00cm from the −2.00μC charge measured perpendicular to the line connecting the three charges.\n",
        "Express your answer in newtons per coulomb.\n",
        "\n",
        "\n",
        "Part B\n",
        "Find the direction of the electric field this combination of charges produces at point P, which lies 6.00cm from the −2.00μC charge measured perpendicular to the line connecting the three charges."
      ],
      "metadata": {
        "id": "32z0VTuEr3aS"
      }
    },
    {
      "cell_type": "code",
      "source": [
        "q1 = -5.00 *10**-6 # Culomb\n",
        "q2 = -2.00 *10**-6 # Culomb\n",
        "q3 = q1\n",
        "\n",
        "\n",
        "\n",
        "VectorsBetween = {\n",
        "    'q1->P': Vector(x= 0.06, y= -0.08),\n",
        "    'q2->P': Vector(x= 0.06, y= 0),\n",
        "    'q3->P': Vector(x= 0.06, y= 0.08)\n",
        "}\n",
        "# print(VectorsBetween)\n",
        "kq1P = (kConstant * abs(q1)) / (VectorsBetween['q1->P'].length**2)\n",
        "kq2P = (kConstant * abs(q2)) / (VectorsBetween['q2->P'].length**2)\n",
        "kq3P = (kConstant * abs(q3)) / (VectorsBetween['q3->P'].length**2)\n",
        "\n",
        "EVectors = {\n",
        "    'q1->P': VectorsBetween['q1->P'].unit_vector().scalar_mult(kq1P),\n",
        "    'q2->P': VectorsBetween['q2->P'].unit_vector().scalar_mult(kq2P),\n",
        "    'q3->P': VectorsBetween['q3->P'].unit_vector().scalar_mult(kq3P),\n",
        "   \n",
        "}\n",
        "# print(EVectors)\n",
        "# ForceVectors = {\n",
        "#   'q1->P': EVectors['q1->P'].scalar_mult(q),\n",
        "#   'q2->P': EVectors['q2->P'].scalar_mult(q3),\\\n",
        "\n",
        "# }\n",
        "\n",
        "eVectorResult = EVectors['q1->P'].plus(EVectors['q2->P'].plus(EVectors['q3->P']))\n",
        "eVectorResult"
      ],
      "metadata": {
        "colab": {
          "base_uri": "https://localhost:8080/"
        },
        "id": "2_rkHCtMsNuW",
        "outputId": "d369145d-eb1d-4236-fd1f-469dfe9e395e"
      },
      "execution_count": 6,
      "outputs": [
        {
          "output_type": "execute_result",
          "data": {
            "text/plain": [
              "i:10388444.444444442, j:0.0, length:10388444.444444442, theta:0.0"
            ]
          },
          "metadata": {},
          "execution_count": 6
        }
      ]
    },
    {
      "cell_type": "markdown",
      "source": [
        "A positive point charge q1 = 2.0 μC is located at x = 0, y = 0.30 m, a negative point charge q2 = -2.0 μC is located at x = 0, y = -0.30 m. A third point charge Q = 5.0 μC is located at x = 0.40 m, y = 0.\n",
        "\n",
        "Part A\n",
        "What is the magnitude of the total electric force that charges q1 and q2 exert on charge Q?\n",
        "Express your answer in newtons.\n",
        "\n",
        "\n",
        "Part B\n",
        "What is the direction of the total electric force that charges q1 and q2exert on charge Q?\n",
        "Express your answer in degrees.\n",
        "\n"
      ],
      "metadata": {
        "id": "S6oz8TCw_f3b"
      }
    },
    {
      "cell_type": "code",
      "source": [
        "q1 = 2.0 * 10 **-6 # +Culombs\n",
        "q1Pos = (0, 0.3) #m\n",
        "\n",
        "q2 = -2.0 * 10 **-6 # Culombs\n",
        "q2Pos = (0, -0.3) #m\n",
        "\n",
        "q3 = 5.0 * 10 **-6 #Culombs\n",
        "q3Pos = (0.4, 0) #m\n",
        "\n",
        "VectorsBetween = {\n",
        "    'q1->q3': Vector(x=0.4, y=-0.3),\n",
        "    'q2->q3': Vector(x=-0.4, y=-0.3)\n",
        "}\n",
        "print(VectorsBetween)\n",
        "kq1q3 = (kConstant * q1) / (VectorsBetween['q1->q3'].length**2)\n",
        "kq2q3 = (kConstant * q1) / (VectorsBetween['q2->q3'].length**2)\n",
        "EVectors = {\n",
        "  'q1->q3': VectorsBetween['q1->q3'].unit_vector().scalar_mult(kq1q3),\n",
        "  'q2->q3': VectorsBetween['q2->q3'].unit_vector().scalar_mult(kq2q3)\n",
        "}\n",
        "print(EVectors)\n",
        "ForceVectors = {\n",
        "  'q1->q3': EVectors['q1->q3'].scalar_mult(q3),\n",
        "  'q2->q3': EVectors['q2->q3'].scalar_mult(q3)\n",
        "}\n",
        "print(ForceVectors)\n",
        "FSum = ForceVectors['q1->q3'].plus(ForceVectors['q2->q3'])\n",
        "print(FSum)"
      ],
      "metadata": {
        "colab": {
          "base_uri": "https://localhost:8080/"
        },
        "id": "dYGbeLqF_gdS",
        "outputId": "6ec7eea7-38bc-45b5-fdec-69c2a5818fcb"
      },
      "execution_count": null,
      "outputs": [
        {
          "output_type": "stream",
          "name": "stdout",
          "text": [
            "{'q1->q3': i:0.4, j:-0.3, length:0.5, theta:-36.86989764584402, 'q2->q3': i:-0.4, j:-0.3, length:0.5, theta:-143.13010235415598}\n",
            "{'q1->q3': i:57536.0, j:-43152.0, length:71920.0, theta:-36.86989764584402, 'q2->q3': i:-57536.0, j:-43152.0, length:71920.0, theta:-143.13010235415598}\n",
            "{'q1->q3': i:0.28768, j:-0.21575999999999998, length:0.3596, theta:-36.86989764584402, 'q2->q3': i:-0.28768, j:-0.21575999999999998, length:0.3596, theta:-143.13010235415598}\n",
            "i:0.0, j:-0.43151999999999996, length:0.43151999999999996, theta:-90.0\n"
          ]
        }
      ]
    },
    {
      "cell_type": "markdown",
      "source": [
        "A long rod, insulated to prevent heat loss along its sides, is in perfect thermal contact with boiling water (at atmospheric pressure) at one end and with an ice-water mixture at the other (Figure 1). The rod consists of 1.00 m section of copper (one end in steam) joined end-to-end to a length L2 of steel (one end in ice). Both sections of the rod have cross-section areas of 4.00 cm2. The temperature of the copper-steel junction is 65.0∘C after a steady state has been set up.\n",
        "\n",
        "A horizontal rod is insulated along its sides. The rod consists of a 1.00-meter section of copper on the left joined end-to-end to a segment of length L subscript 2 of steel on the right. The very end of the copper part is in contact with boiling water on the left and the very end of the steel part is in contact with an ice-water mixture on the right. The temperature of the copper-steel junction is 65.0 degrees Celsius.\n",
        "\n",
        "Part A\n",
        "How much heat per second flows from the steam bath to the ice-water mixture?\n",
        "Express your answer with the appropriate units.\n",
        "\n",
        "\n",
        "Part B\n",
        "What is the length L2 of the steel section?\n",
        "Express your answer with the appropriate units."
      ],
      "metadata": {
        "id": "EMRB5zJ2o6UG"
      }
    },
    {
      "cell_type": "code",
      "source": [
        "Lcopper = 1.0 # m\n",
        "Tmid = 65 # Celcious\n",
        "Acopper = 0.04 #m ^3\n",
        "Rcopper = Lcopper / thermal_conductivity['copper']\n",
        "Hcopper = ( (Acopper * (100 - Tmid)) / Rcopper )\n",
        "## Hsteel = thermal_conductivity['steel'] * Tmid * Acopper / L"
      ],
      "metadata": {
        "id": "wVT93Yb4pBir",
        "colab": {
          "base_uri": "https://localhost:8080/"
        },
        "outputId": "76d044af-5633-483b-b304-f534b8d38259"
      },
      "execution_count": null,
      "outputs": [
        {
          "output_type": "execute_result",
          "data": {
            "text/plain": [
              "539.0"
            ]
          },
          "metadata": {},
          "execution_count": 4
        }
      ]
    },
    {
      "cell_type": "markdown",
      "source": [
        "An asteroid with a diameter of 10 km and a mass of 2.60×1015kg impacts the earth at a speed of 32.0 km/s, landing in the Pacific Ocean.\n",
        "\n",
        "Part A\n",
        "If 1.00% of the asteroid's kinetic energy goes to boiling the ocean water (assume an initial water temperature of 10.0∘C), what mass of water will be boiled away by the collision? (For comparison, the mass of water contained in Lake Superior is about 2×1015kg.)\n",
        "Express your answer in kilograms."
      ],
      "metadata": {
        "id": "pM7HwPZtIBBf"
      }
    },
    {
      "cell_type": "code",
      "source": [
        "Radius = 5000 #m\n",
        "m = 2.6 * 10 **15 # kg\n",
        "Vi = 32 * 10**3 #m/s\n",
        "KE = (1/2) * m * Vi**2\n",
        "\n",
        "Qwater = 0.01 * KE\n",
        "## Q1 = mWater * C * dT -> 10\n",
        "## Q2 = mWater * HOV\n",
        "## Qwater =  (mWater) (HOV + C * dT )\n",
        "mWater = Qwater / (heat_of_vaporization['water'] + (molar_heat_capacity['water'] * 90) )\n",
        "mWater"
      ],
      "metadata": {
        "colab": {
          "base_uri": "https://localhost:8080/"
        },
        "id": "xm38u4w2IBfL",
        "outputId": "4ab34888-f449-41c7-d6b4-62ff9f810bec"
      },
      "execution_count": null,
      "outputs": [
        {
          "output_type": "execute_result",
          "data": {
            "text/plain": [
              "5055637841327713.0"
            ]
          },
          "metadata": {},
          "execution_count": 8
        }
      ]
    },
    {
      "cell_type": "markdown",
      "source": [
        "A 17.0 g bullet traveling horizontally at 905 m/s passes through a tank containing 13.5 kg of water and emerges with a speed of 534 m/s.\n",
        "Part A\n",
        "What is the maximum temperature increase that the water could have as a result of this event?\n",
        "Express your answer in degrees Celsius."
      ],
      "metadata": {
        "id": "IfZqkZxovdqD"
      }
    },
    {
      "cell_type": "code",
      "source": [
        "MassBullet = 0.017 # Kg\n",
        "vi, vf = 905, 534 # M/s\n",
        "MassWater = 13.5 #kg\n",
        "\n",
        "DKE = (1/2) * MassBullet * (vf-vi)**2\n",
        "## DKE = Q for water, \n",
        "## Q = MC Delta T\n",
        "dTemp = DKE / (MassWater * molar_heat_capacity['water'])"
      ],
      "metadata": {
        "colab": {
          "base_uri": "https://localhost:8080/"
        },
        "id": "ZvCScr1nvc5n",
        "outputId": "473008e5-c1d3-4788-8d2e-f4285344ca9a"
      },
      "execution_count": null,
      "outputs": [
        {
          "output_type": "execute_result",
          "data": {
            "text/plain": [
              "-0.08022428179969947"
            ]
          },
          "metadata": {},
          "execution_count": 3
        }
      ]
    },
    {
      "cell_type": "markdown",
      "source": [
        "A Carnot refrigerator is operated between two heat reservoirs at temperatures of 320 K and 270 K.\n",
        "\n",
        "Part A\n",
        "If in each cycle the refrigerator receives 415 J of heat energy from the reservoir at 270 K, how many joules of heat energy does it deliver to the reservoir at 320 K?\n",
        "Express your answer in joules.\n",
        "\n",
        "\n",
        "Part B\n",
        "If the refrigerator goes through 165 cycles each minute, what power input is required to operate the refrigerator?\n",
        "Express your answer in watts.\n",
        "\n",
        "\n",
        "Part C\n",
        "What is the coefficient of performance of the refrigerator?"
      ],
      "metadata": {
        "id": "2KqrHGdoi-si"
      }
    },
    {
      "cell_type": "code",
      "source": [
        "Thigh = 320 # Kelvin\n",
        "Tlow = 270 # Kelvin\n",
        "e = Tlow / (Thigh - Tlow)\n",
        "## e = GET/PAY or Ql / Work\n",
        "Qlow = 415\n",
        "Work = Qlow / e\n",
        "Qhigh = Qlow + Work\n",
        "Qhigh\n",
        "\n",
        "Power = Work * 165 / 60\n",
        "Power\n",
        "\n",
        "e"
      ],
      "metadata": {
        "colab": {
          "base_uri": "https://localhost:8080/"
        },
        "id": "FV7qWzOjjErp",
        "outputId": "19d312d2-25b1-4359-ca1a-72e8183210fc"
      },
      "execution_count": null,
      "outputs": [
        {
          "output_type": "execute_result",
          "data": {
            "text/plain": [
              "5.4"
            ]
          },
          "metadata": {},
          "execution_count": 19
        }
      ]
    },
    {
      "cell_type": "markdown",
      "source": [
        "A Carnot engine performs 2.3×104J of work in each cycle and has an efficiency of 66 %.\n",
        "\n",
        "Part A\n",
        "How much heat does the engine extract from its heat source in each cycle?\n",
        "Express your answer with the appropriate units.\n",
        "\n",
        "Part B\n",
        "If the engine exhausts heat at room temperature (20.0∘C), what is the temperature of its heat source?\n"
      ],
      "metadata": {
        "id": "jlEudtnPfwpL"
      }
    },
    {
      "cell_type": "code",
      "source": [
        "Work = 2.3 * 10 ** 4 # Joule\n",
        "e = 0.66\n",
        "Qh = Work / e\n",
        "Tlow = Kelvin(20) # Celc\n",
        "## 1 - (Tlow / Thigh) = (Tlow/Thigh) = Thigh(1-e) = Tlow / (1-e)\n",
        "Thigh = Tlow / (1-e)\n",
        "\n",
        "print((Qh, Celcious(Thigh)))"
      ],
      "metadata": {
        "colab": {
          "base_uri": "https://localhost:8080/"
        },
        "id": "sv2RtJ-hf7fA",
        "outputId": "c19d8272-2f3d-4dc4-b9ef-64ebe601f170"
      },
      "execution_count": null,
      "outputs": [
        {
          "output_type": "stream",
          "name": "stdout",
          "text": [
            "(34848.48484848485, 589.0558823529412)\n"
          ]
        }
      ]
    },
    {
      "cell_type": "markdown",
      "source": [
        "A Carnot engine is operated between two heat reservoirs at temperatures of 520 K and 300 K.\n",
        "Part A\n",
        "If the engine receives 6.45 kJ of heat energy from the reservoir at 520 K in each cycle, how many joules per cycle does it reject to the reservoir at 300 K?\n",
        "Express your answer in joules.\n",
        "\n",
        "Part B\n",
        "How much mechanical work is performed by the engine during each cycle?\n",
        "Express your answer in joules.\n",
        "\n",
        "\n",
        "Part C\n",
        "What is the thermal efficiency of the engine?\n",
        "Express your answer as a percentage.\n",
        "\n",
        "\n"
      ],
      "metadata": {
        "id": "F_TBrDLiUCz-"
      }
    },
    {
      "cell_type": "code",
      "source": [
        "TempHigh = 520 # Kelvin\n",
        "TempLow = 300 # Kelvin\n",
        "QHigh = 6.45 * 10 **3 # J\n",
        "\n",
        "e = 1 - (TempLow / TempHigh)\n",
        "Work = QHigh * e\n",
        "QLow = QHigh - Work\n",
        "\n",
        "print('Work {}, QLow {}'.format(Work, QLow))\n",
        "e"
      ],
      "metadata": {
        "colab": {
          "base_uri": "https://localhost:8080/"
        },
        "id": "4oHwPadlUIcD",
        "outputId": "bf80b90d-6ff1-45d1-ab61-6800bb8eab47"
      },
      "execution_count": null,
      "outputs": [
        {
          "output_type": "stream",
          "name": "stdout",
          "text": [
            "Work 2728.8461538461543, QLow 3721.1538461538457\n"
          ]
        },
        {
          "output_type": "execute_result",
          "data": {
            "text/plain": [
              "0.42307692307692313"
            ]
          },
          "metadata": {},
          "execution_count": 5
        }
      ]
    },
    {
      "cell_type": "markdown",
      "source": [
        "A refrigerator has a coefficient of performance of 2.25, runs on an input of 135 W of electrical power, and keeps its inside compartment at 5∘C.\n",
        "\n",
        "Part A\n",
        "If you put a dozen 1.0 L plastic bottles of water at 31∘C into this refrigerator, how long will it take for them to be cooled down to 5∘C? (Ignore any heat that leaves the plastic.)"
      ],
      "metadata": {
        "id": "vNpGfW-tn9Ui"
      }
    },
    {
      "cell_type": "code",
      "source": [
        "E = 2.25 # Coef. of Performance\n",
        "Power = 135 # WATT\n",
        "Ti = 31 # Deg. Celc\n",
        "Tf = 5 # Deg. Celc\n",
        "m = 12 # Liters -> Kg\n",
        "\n",
        "Q = m * molar_heat_capacity['water'] * (Tf-Ti)\n",
        "\n",
        "## E * t = Ql    / Power\n",
        "\n",
        "t = abs(Q) / (Power * E)\n",
        "t/3600"
      ],
      "metadata": {
        "colab": {
          "base_uri": "https://localhost:8080/"
        },
        "id": "L5WEBohYn_xq",
        "outputId": "75cc2d27-e96f-480e-f2ba-81dbef998b1d"
      },
      "execution_count": null,
      "outputs": [
        {
          "output_type": "execute_result",
          "data": {
            "text/plain": [
              "1.1955006858710562"
            ]
          },
          "metadata": {},
          "execution_count": 6
        }
      ]
    },
    {
      "cell_type": "markdown",
      "source": [
        "A freezer has a coefficient of performance of 2.40. The freezer is to convert 1.80 kg of water at 25.0∘C to 1.80 kg of ice at -5.0∘C in one hour.\n",
        "\n",
        "\n",
        "Part A\n",
        "What amount of heat must be removed from the water at 25.0 ∘C  to convert it to ice at -5.0 ∘C ?\n",
        "Express your answer in joules.\n",
        "\n",
        "\n",
        "Part B\n",
        "How much electrical energy is consumed by the freezer during this hour?\n",
        "Express your answer in joules.\n",
        "\n",
        "\n",
        "Part C\n",
        "How much wasted heat is rejected to the room in which the freezer sits?\n",
        "Express your answer in joules.\n"
      ],
      "metadata": {
        "id": "74qLWwv_vtyg"
      }
    },
    {
      "cell_type": "code",
      "source": [
        "P = 2.4\n",
        "mWater = 1.8 # Kg\n",
        "Ti = 25.0 # Deg. Celc\n",
        "Tm = 0 # Deg. Celc\n",
        "Tf = -5 # Deg. Celc\n",
        "t = 1 * 60 * 60 # Seconds\n",
        "## Ti -> Tm\n",
        "Q1 = mWater * molar_heat_capacity['water'] * (Ti - Tm)\n",
        "## Water -> Ice\n",
        "Q2 = mWater * heat_of_fusion['water']\n",
        "## Tm -> Tf\n",
        "Q3 = mWater * molar_heat_capacity['water'] * (Tm - Tf)\n",
        "Qtotal = Q1 + Q2 + Q3\n",
        "\n",
        "## P = GET / PAY\n",
        "Work = Qtotal / P\n",
        "\n",
        "Qh = Qtotal + Work\n",
        "Qh"
      ],
      "metadata": {
        "colab": {
          "base_uri": "https://localhost:8080/"
        },
        "id": "VxfRXy6tv2Qj",
        "outputId": "baf6174b-42d1-4aa3-d08f-37ff3ca10625"
      },
      "execution_count": null,
      "outputs": [
        {
          "output_type": "execute_result",
          "data": {
            "text/plain": [
              "1172235.0"
            ]
          },
          "metadata": {},
          "execution_count": 18
        }
      ]
    },
    {
      "cell_type": "markdown",
      "source": [
        "A gasoline engine takes in  1.44×104 J and delivers 3600 J of work per cycle. The heat is obtained by burning gasoline with a heat of combustion of 4.60×104 J/g.\n",
        "\n",
        "Part A\n",
        "What is the thermal efficiency?\n",
        "Express your answer as a percentage.\n",
        "\n",
        "\n",
        "Part B\n",
        "How much heat is discarded in each cycle?\n",
        "Express your answer in  joules.\n",
        "\n",
        "\n",
        "Part C\n",
        "What mass of fuel is burned in each cycle?\n",
        "Express your answer in  grams.\n",
        "\n",
        "\n",
        "Part D\n",
        "If the engine goes through 55.0 cycles per second, what is its power output in kilowatts?\n",
        "\n"
      ],
      "metadata": {
        "id": "pilqNNq8qYI-"
      }
    },
    {
      "cell_type": "code",
      "source": [
        "Qh = 1.44 * 10**4 # Joule\n",
        "W = 3600 # Joule\n",
        "\n",
        "E = W / Qh\n",
        "\n",
        "Ql = Qh - W\n",
        "\n",
        "m = Qh / Combustion['gas']\n",
        "\n",
        "P = W * 55 #/ Cycles Per Second\n",
        "P"
      ],
      "metadata": {
        "colab": {
          "base_uri": "https://localhost:8080/"
        },
        "id": "3QTKjZeOqYaN",
        "outputId": "3ba97963-4cfb-450c-9416-5d5ed9c484da"
      },
      "execution_count": null,
      "outputs": [
        {
          "output_type": "execute_result",
          "data": {
            "text/plain": [
              "198000"
            ]
          },
          "metadata": {},
          "execution_count": 12
        }
      ]
    },
    {
      "cell_type": "markdown",
      "source": [
        "An aircraft engine takes in an amount 9200 J of heat and discards an amount 6600 J each cycle.\n",
        "Part A\n",
        "What is the mechanical work output of the engine during one cycle?\n",
        "\n",
        "\n",
        "Part B\n",
        "What is the thermal efficiency of the engine?"
      ],
      "metadata": {
        "id": "YCy-DlmKp7PR"
      }
    },
    {
      "cell_type": "code",
      "source": [
        "Qh = 9200 # J\n",
        "Ql = 6600 # J\n",
        "W = Qh - Ql\n",
        "\n",
        "E = W / Qh\n",
        "E"
      ],
      "metadata": {
        "colab": {
          "base_uri": "https://localhost:8080/"
        },
        "id": "D7HgjeIFp6lk",
        "outputId": "144c0936-7569-4969-eb64-65bea49a3c6a"
      },
      "execution_count": null,
      "outputs": [
        {
          "output_type": "execute_result",
          "data": {
            "text/plain": [
              "0.2826086956521739"
            ]
          },
          "metadata": {},
          "execution_count": 3
        }
      ]
    },
    {
      "cell_type": "markdown",
      "source": [
        "A diesel engine performs an amount of mechanical work equal to 3000 J and discards an amount of heat equal to 5000 J each cycle.\n",
        "\n",
        "For related problem-solving tips and strategies, you may want to view a Video Tutor Solution of Analyzing a heat engine.\n",
        "\n",
        "Part A\n",
        "How much heat must be supplied to the engine in each cycle?\n",
        "\n",
        "\n",
        "Part B\n",
        "What is the thermal efficiency of the engine?\n",
        "Express your answer in percent."
      ],
      "metadata": {
        "id": "EuarluqCklZ9"
      }
    },
    {
      "cell_type": "code",
      "source": [
        "Ql = 5000 # J\n",
        "W = 3000 # J\n",
        "Qh = W + Ql\n",
        "## E = get / pay\n",
        "E = W/Qh\n",
        "E"
      ],
      "metadata": {
        "colab": {
          "base_uri": "https://localhost:8080/"
        },
        "id": "PQ-140qXlXze",
        "outputId": "3a6e99ed-0824-4eae-8930-3d700a659c6a"
      },
      "execution_count": null,
      "outputs": [
        {
          "output_type": "execute_result",
          "data": {
            "text/plain": [
              "0.375"
            ]
          },
          "metadata": {},
          "execution_count": 1
        }
      ]
    },
    {
      "cell_type": "markdown",
      "source": [
        "A quantity of 5.00 mol of a monatomic ideal gas has an initial pressure of pa=1.00×105Pa and an initial volume of Va=0.0200m3. Two paths are used to take the gas to a final state for which pb=1.80×105Pa and Vb=0.0280m3.\n",
        "\n",
        "\n",
        "Part A\n",
        "Along path 1 the pressure is increased to pa=1.80×105Pa while the volume is kept constant with a value of 0.0200 m3. Then the volume is increased to 0.0280 m3 while the pressure is kept at a constant 1.80×105Pa. Calculate the total Q and total W for this path.\n",
        "Express your answer in joules. Enter your answers numerically separated by a comma.\n",
        "\n",
        "\n",
        "Part B\n",
        "Along path 2 the volume is increased to 0.0280 m3 while the pressure remains 1.00×105Pa and then the pressure is increased to 1.80×105Pa while the volume remains constant at 0.0280 m3. Calculate the total Q and total W for this path.\n",
        "Express your answer in joules. Enter your answers numerically separated by a comma.\n",
        "\n",
        "\n",
        "Part C\n",
        "Calculate the quantity Q−W for each path.\n",
        "Express your answer in joules. Enter your answers numerically separated by a comma."
      ],
      "metadata": {
        "id": "BURGxOFXnMTC"
      }
    },
    {
      "cell_type": "code",
      "source": [
        "n = 5 # mol Monotomic\n",
        "Pa = 1 * 10 ** 5 # Pa\n",
        "Va = 0.02 # m^3\n",
        "\n",
        "# Path 1 \n",
        "Pb = 1.8 * 10 **5 # Pa\n",
        "Vb = Va\n",
        "Vc = 0.028 # m^3\n",
        "Pc = Pb\n",
        "Ta =  ( Pa * Va ) / (n * IdealGasConst )\n",
        "Tb =  ( Pb * Vb ) / ( n * IdealGasConst )\n",
        "Tc =  ( Pc * Vc ) / ( n * IdealGasConst )\n",
        "W1 = (Pc) * (Vc- Vb)\n",
        "dU1 = n * Cv['monotomic'] * (Tb - Ta)\n",
        "dU2 =  n * Cp['monotomic'] * (Tc - Tb)\n",
        "Q = W1 + dU1 + dU2\n",
        "print(Q, W1)\n",
        "\n",
        "# Path 2\n",
        "Pb = Pa # Pa\n",
        "Vb = 0.028 # m^3\n",
        "Vc = Vb\n",
        "Pc = 1.8 * 10 ** 5 # Pa\n",
        "Ta =  ( Pa * Va ) / (n * IdealGasConst )\n",
        "Tb =  ( Pb * Vb ) / ( n * IdealGasConst )\n",
        "Tc =  ( Pc * Vc ) / ( n * IdealGasConst )\n",
        "W2 = (Pa) * (Vb - Va)\n",
        "dU1 = n * Cp['monotomic'] * (Tb - Ta)\n",
        "dU2 =  n * Cv['monotomic'] * (Tc - Tb)\n",
        "\n",
        "Q = W1 + dU1 + dU2\n",
        "\n",
        "dU1, dU2, Q, W2\n",
        "\n",
        "\n",
        "# print(Q, W2)"
      ],
      "metadata": {
        "colab": {
          "base_uri": "https://localhost:8080/"
        },
        "id": "hsp6LMJtnUOD",
        "outputId": "160ecaaa-d4a9-4d06-fe12-e663c92032a2"
      },
      "execution_count": null,
      "outputs": [
        {
          "output_type": "stream",
          "name": "stdout",
          "text": [
            "6259.802742362281 1440.0\n"
          ]
        },
        {
          "output_type": "execute_result",
          "data": {
            "text/plain": [
              "5344.334856867934"
            ]
          },
          "metadata": {},
          "execution_count": 3
        }
      ]
    },
    {
      "cell_type": "markdown",
      "source": [
        "The pV diagram in (Figure 1) shows a process abc involving 1.00 mol of an ideal gas.\n",
        "![pVDiagramRandom.png](data:image/png;base64,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)\n",
        "\n",
        "A p V diagram for a two-step process going through states 'a', b, and c. Volume is measured in meters cubed on the x axis. Pressure is measured in pascals times 10 to the fifth power on the y axis. The pressure increases linearly from 0.010 meters cubed and 2.0 pascals times 10 to the fifth power, which is state 'a', to 0.070 meters cubed and 5.0 pascals times 10 to the fifth power, which is state b. At the volume of 0.070 meters cubed, the pressure increases to 8.0 pascals times 10 to the fifth power, which is state c.\n",
        "\n",
        "\n",
        "Part A\n",
        "What was the temperature of this gas at points a, b, and c?\n",
        "Enter your answers separated by commas.\n",
        "\n",
        "\n",
        "Part B\n",
        "How much work was done by or on the gas in this process?\n",
        "Express your answer in joules.\n"
      ],
      "metadata": {
        "id": "OoFxCKQgh5vA"
      }
    },
    {
      "cell_type": "code",
      "source": [
        "n = 1 # mol\n",
        "Pa = 2 * 10**5 # Pa\n",
        "Va = 0.01 # m^3\n",
        "Pb = 5 * 10**5 # Pa\n",
        "Vb = 0.07 # m^3\n",
        "Pc = 8 * 10**5 # Pa\n",
        "Vc = Vb\n",
        "\n",
        "Ta =  ( Pa * Va ) / (n * IdealGasConst )\n",
        "Tb =  ( Pb * Vb ) /( n * IdealGasConst )\n",
        "Tc =  ( Pc * Vc ) / ( n * IdealGasConst )\n",
        "Ta, Tb, Tc\n",
        "\n",
        "W_ab = (1/2) * (Vb - Va) * (Pb - Pa) + Pa * (Vb- Va)\n",
        "W_ab\n",
        "\n",
        "dU = 1.5 * 10**4\n",
        "dU + W_ab\n",
        "## PV = nRT"
      ],
      "metadata": {
        "colab": {
          "base_uri": "https://localhost:8080/"
        },
        "id": "2hShtGAliSZl",
        "outputId": "20517f18-a39d-4ea4-ccc9-dce5bb2fdce8"
      },
      "execution_count": null,
      "outputs": [
        {
          "output_type": "execute_result",
          "data": {
            "text/plain": [
              "36000.0"
            ]
          },
          "metadata": {},
          "execution_count": 24
        }
      ]
    },
    {
      "cell_type": "markdown",
      "source": [
        "Five moles of an ideal monatomic gas with an initial temperature of 132 ∘C expand and, in the process, absorb 1700 J of heat and do 2400 J of work.\n",
        "Part A\n",
        "What is the final temperature of the gas?"
      ],
      "metadata": {
        "id": "jcFwPmJSPsCc"
      }
    },
    {
      "cell_type": "code",
      "source": [
        "n = 5 # mol\n",
        "Ti = Kelvin(132) \n",
        "W = 2400 # Joules\n",
        "dQ = 1700 # Joules\n",
        "dU = dQ - W # Joules\n",
        "\n",
        "## dU = nCv * (Tf - Ti)\n",
        "## dU / n * Cv = Tf - Ti\n",
        "Tf = ( dU / (  n * Cv['monotomic'] ) )  + Ti\n",
        "Celcious(Tf)"
      ],
      "metadata": {
        "colab": {
          "base_uri": "https://localhost:8080/"
        },
        "id": "JJjn7JXEPsga",
        "outputId": "ed2084f4-9580-4497-fcf0-c214fcfa74c1"
      },
      "execution_count": null,
      "outputs": [
        {
          "output_type": "execute_result",
          "data": {
            "text/plain": [
              "120.77395557693848"
            ]
          },
          "metadata": {},
          "execution_count": 16
        }
      ]
    },
    {
      "cell_type": "markdown",
      "source": [
        "A gas in a cylinder expands from a volume of 0.110m3 to 0.320m3. Heat flows into the gas just rapidly enough to keep the pressure constant at 1.65×105Pa during the expansion. The total heat added is 1.15×105J.\n",
        "\n",
        "Part A\n",
        "Find the work done by the gas.\n",
        "Express your answer in joules.\n",
        "\n",
        "Part B\n",
        "Find the change in internal energy of the gas.\n",
        "Express your answer in joules.\n"
      ],
      "metadata": {
        "id": "i7LEDzWpN0Hg"
      }
    },
    {
      "cell_type": "code",
      "source": [
        "Vi, Vf = 0.11, 0.32 # m^3\n",
        "P = 1.65 * 10 ** 5 # Pa\n",
        "dQ = 1.15 * 10**5 # Joules\n",
        "\n",
        "W = P * (Vf - Vi) # Joules\n",
        "W\n",
        "\n",
        "dU = dQ - W\n",
        "dU"
      ],
      "metadata": {
        "colab": {
          "base_uri": "https://localhost:8080/"
        },
        "id": "MdQK_xD5N7T8",
        "outputId": "fd7f1910-dc3e-47a4-90a8-861ec2444f06"
      },
      "execution_count": null,
      "outputs": [
        {
          "output_type": "execute_result",
          "data": {
            "text/plain": [
              "80349.99999999999"
            ]
          },
          "metadata": {},
          "execution_count": 12
        }
      ]
    },
    {
      "cell_type": "markdown",
      "source": [
        "A Jaguar XK8 convertible has an eight-cylinder engine. At the beginning of its compression stroke, one of the cylinders contains 495 cm3 of air at atmospheric pressure (1.01×105 Pa) and a temperature of 27.0∘C. At the end of the stroke, the air has been compressed to a volume of 46.6 cm3 and the gauge pressure has increased to 2.80×106 Pa .\n",
        "\n",
        "\n",
        "Part A\n",
        "Compute the final temperature.        "
      ],
      "metadata": {
        "id": "7T_OWBeyFe1x"
      }
    },
    {
      "cell_type": "code",
      "source": [
        "## Note, that when you dont convert T1 to Kelvin, and then back to celcious the answer is extremely incorrect.\n",
        "\n",
        "Vi = 4.95 # m^3\n",
        "Vf = 0.466 # m^3\n",
        "Ti = Kelvin(27) # Celc. \n",
        "Pi = 1 * atm\n",
        "Pf = (1*atm) + (2.8 * 10 ** 6) # Pa\n",
        "\n",
        "## PV = nRT\n",
        "## PV / nRT = 1\n",
        "## (Pi * Vi / n * IdealGasConst * Ti) = (Pf * Vf / n * IdealGasConst * Tf) \n",
        "## (Pi * Vi) = (Pf * Vf / n * IdealGasConst * Tf) * n * IdealGasConst * Ti\n",
        "## (Pi * Vi) = (Pf * Vf /  * Tf)  * Ti\n",
        "Tf = (Pf * Vf * Ti / (Pi * Vi))\n",
        "Celcious(Tf)"
      ],
      "metadata": {
        "colab": {
          "base_uri": "https://localhost:8080/"
        },
        "id": "965wmedwFf7p",
        "outputId": "6a6280f2-aa2a-4f94-eac7-b1d02100ad1e"
      },
      "execution_count": null,
      "outputs": [
        {
          "output_type": "execute_result",
          "data": {
            "text/plain": [
              "538.4563204320432"
            ]
          },
          "metadata": {},
          "execution_count": 7
        }
      ]
    },
    {
      "cell_type": "markdown",
      "source": [
        "Two moles of an ideal gas are heated at constant pressure from a temperature of 24'C to 100'C. Calculate Work done by the gas."
      ],
      "metadata": {
        "id": "2_Y_G3mTIhc2"
      }
    },
    {
      "cell_type": "code",
      "source": [
        "n = 2 # mol\n",
        "Told = 24\n",
        "Tnew = 100\n",
        "# Vi = Ti\n",
        "# Work is equal to the change in kinetic energy\n",
        "KEi = BoltConst * Told * (3/2) * AvogadroConst\n",
        "KEf = BoltConst * Tnew * (3/2) * AvogadroConst\n",
        "\n",
        "# Vi = n * R * Ti / P\n",
        "# Vf = n * R * Tf / P\n",
        "# W = P/P * (n * R * Tf- n * R * Ti)\n",
        "#     = n * R * dT\n",
        "# work_done = KEf - KEi\n",
        "work_done = n * IdealGasConst * (Tnew - Told)\n",
        "work_done"
      ],
      "metadata": {
        "id": "XcdPZVJqIwt8",
        "colab": {
          "base_uri": "https://localhost:8080/"
        },
        "outputId": "51f4f23c-4b22-479b-9bfc-1c486d3199ef"
      },
      "execution_count": null,
      "outputs": [
        {
          "output_type": "execute_result",
          "data": {
            "text/plain": [
              "1263.728"
            ]
          },
          "metadata": {},
          "execution_count": 6
        }
      ]
    },
    {
      "cell_type": "markdown",
      "source": [
        "A gas undergoes two processes. In the first, the volume remains constant at 0.200 m3 and the pressure increases from 3.00×105 Pa to 5.50×105 Pa . The second process is a compression to a volume of 0.110 m3 at a constant pressure of 5.50×105 Pa.\n",
        "Part A\n",
        "Find the total work done by the gas during both processes."
      ],
      "metadata": {
        "id": "w76EmSusRYnz"
      }
    },
    {
      "cell_type": "code",
      "source": [
        "# \n",
        "v1 = 0.2 # m^3\n",
        "v2 = v1 # Remains Const\n",
        "p1 = 3.0 * 10**5 # Pa\n",
        "p2 = 5.5 * 10 ** 5 # Pa\n",
        "\n",
        "#Pold * Vold = n * R * Told\n",
        "#Pnew * Vnew = n * R * Tnew\n",
        "\n",
        "## Should equal 0, delta V = 0\n",
        "\n",
        "v1 = v2 \n",
        "v2 =  0.11 # m^3\n",
        "p = 5.5 * 10**5 # Pq\n",
        "\n",
        "work = p * (v2-v1)\n",
        "work"
      ],
      "metadata": {
        "id": "36bM04KRRa2s",
        "colab": {
          "base_uri": "https://localhost:8080/"
        },
        "outputId": "bf873052-0b9c-4a40-feac-b2ff0be276c5"
      },
      "execution_count": null,
      "outputs": [
        {
          "output_type": "execute_result",
          "data": {
            "text/plain": [
              "-49500.00000000001"
            ]
          },
          "metadata": {},
          "execution_count": 2
        }
      ]
    },
    {
      "cell_type": "markdown",
      "source": [
        "The hot glowing surfaces of stars emit energy in the form of electromagnetic radiation. It is a good approximation to assume e=1 for these surfaces.\n",
        "\n",
        "Part A\n",
        "Find the radius of the star (assumed to be spherical) Rigel, the bright blue star in the constellation Orion, that radiates energy at a rate of 2.7×1032W and has surface temperature 11000 K.\n",
        "Express your answer in meters.\n",
        "\n",
        "Part B\n",
        "Find the radius of the star (assumed to be spherical) Procyon B (only visible using a telescope), that radiates energy at a rate of 2.1×1023W and has surface temperature 10000 K."
      ],
      "metadata": {
        "id": "DpI-awAR3qzK"
      }
    },
    {
      "cell_type": "code",
      "source": [
        "( (2.7 * 10 **32) / ( (4*PI) * StefConst * (11000**4) ) )** 0.5 ## PART A\n",
        "\n",
        "( (2.1 * 10 **23) / ( (4*PI) * StefConst * (10000**4) ) )** 0.5 ## PART B"
      ],
      "metadata": {
        "colab": {
          "base_uri": "https://localhost:8080/"
        },
        "id": "W28oXfR43vrF",
        "outputId": "faf5ee38-dcfe-4bb4-f4fd-d4a89671d79c"
      },
      "execution_count": null,
      "outputs": [
        {
          "output_type": "execute_result",
          "data": {
            "text/plain": [
              "5428919.091727708"
            ]
          },
          "metadata": {},
          "execution_count": 37
        }
      ]
    },
    {
      "cell_type": "markdown",
      "source": [
        "The operating temperature of a tungsten filament in an incandescent light bulb is 2500 K, and its emissivity is 0.350.\n",
        "\n",
        "For related problem-solving tips and strategies, you may want to view a Video Tutor Solution of Radiation from the human body.\n",
        "\n",
        "Part A\n",
        "Find the surface area of the filament of a 200 W bulb if all the electrical energy consumed by the bulb is radiated by the filament as electromagnetic waves. (Only a fraction of the radiation appears as visible light.)"
      ],
      "metadata": {
        "id": "WPSTqfA62hhg"
      }
    },
    {
      "cell_type": "code",
      "source": [
        "P = 200\n",
        "e = 0.35\n",
        "T = 2500 # K\n",
        "\n",
        "A = P / ( StefConst * e * T ** 4)\n",
        "A"
      ],
      "metadata": {
        "colab": {
          "base_uri": "https://localhost:8080/"
        },
        "id": "HRatB5nz2iH8",
        "outputId": "26c262d7-2efb-46aa-fa3f-4d6a7186f238"
      },
      "execution_count": null,
      "outputs": [
        {
          "output_type": "execute_result",
          "data": {
            "text/plain": [
              "0.0002579994960947342"
            ]
          },
          "metadata": {},
          "execution_count": 34
        }
      ]
    },
    {
      "cell_type": "markdown",
      "source": [
        "Rods of copper, brass, and steel are welded together to form a Y-shaped figure. The cross-sectional area of each rod is 2.00 cm2. The free end of the copper rod is maintained at 100.0∘C, and the free ends of the brass and steel rods at 0.0∘C. Assume there is no heat loss from the surfaces of the rods. The lengths of the rods are: copper, 13.0 cm; brass, 18.0 cm; steel, 24.0 cm.\n",
        "\n",
        "Part A\n",
        "What is the temperature of the junction point?\n",
        "\n",
        "Part B\n",
        "What is the heat current in each of the three rods?"
      ],
      "metadata": {
        "id": "BbOGWMHVppv3"
      }
    },
    {
      "cell_type": "code",
      "source": [
        "A = 0.02 # m^2\n",
        "Lcopper = 0.13 #m\n",
        "Lbrass = 0.18 # m\n",
        "Lsteel = 0.24 # m\n",
        "tempHigh = 100.0 # Celc.\n",
        "tempLow = 0.0 # Celc.\n",
        "\n",
        "## Hcopper = Hbrass + Hsteel\n",
        "## ( A * (tempHigh - tempJunc) / ( Rcopper ) ) = (tempJunc - 0) * (A) ( ( 1 / ( Rsteel ) ) + ( 1 / ( Rbrass ) ) ) \n",
        "# Divide out A\n",
        "## ( (tempHigh - tempJunc) / ( Rcopper ) ) = (tempJunc - 0) ( ( 1 / ( Rsteel ) ) + ( 1 / ( Rbrass ) ) ) \n",
        "## Cross Multiply / Switch Rcopper and the temp junc\n",
        "## ( (tempHigh - tempJunc) / (tempJunc - 0) ) =  ( Rcopper ) * ( ( 1 / ( Rsteel ) ) + ( 1 / ( Rbrass ) ) ) \n",
        "## Format\n",
        "## ( (tempHigh - tempJunc) / (tempJunc - 0) ) =  ( Rcopper ) / (  Rsteel + Rbrass ) \n",
        "## tempHigh = tempJunc * ( Ratio  + 1 )\n",
        "## GOTTEM\n",
        "\n",
        "Rcopper = Lcopper / thermal_conductivity['copper']\n",
        "Rsteel = Lsteel / thermal_conductivity['steel']\n",
        "Rbrass = Lbrass / thermal_conductivity['brass']\n",
        "RatioR  =  ( Rcopper ) / ( Rsteel + Rbrass ) \n",
        "RatioR\n",
        "\n",
        "tempJunc = ( tempHigh / ( ( Rcopper * ( ( Rbrass + Rsteel ) / ( Rbrass * Rsteel ) ) ) + 1) )\n",
        "tempJunc\n"
      ],
      "metadata": {
        "colab": {
          "base_uri": "https://localhost:8080/"
        },
        "id": "WphgQ7VWpwrW",
        "outputId": "e88b98ad-3495-4824-964e-56dbe56bc7c6"
      },
      "execution_count": null,
      "outputs": [
        {
          "output_type": "execute_result",
          "data": {
            "text/plain": [
              "78.42515942488217"
            ]
          },
          "metadata": {},
          "execution_count": 3
        }
      ]
    },
    {
      "cell_type": "markdown",
      "source": [
        "Compute the ratio of the rate of heat loss through a single-pane window with area 0.15  m2  to that for a double-pane window with the same area. The glass of a single pane is 4.0  mm  thick, and the air space between the two panes of the double-pane window is 6.80  mm  thick. The glass has thermal conductivity 0.80  W/m⋅K . The air films on the room and outdoor surfaces of either window have a combined thermal resistance of 0.15  m2⋅K/W .\n"
      ],
      "metadata": {
        "id": "hcCBT5AvpOuE"
      }
    },
    {
      "cell_type": "code",
      "source": [
        "2.995 #Skipped"
      ],
      "metadata": {
        "id": "v-cVgWkFpQwi"
      },
      "execution_count": null,
      "outputs": []
    },
    {
      "cell_type": "markdown",
      "source": [
        " picture window has dimensions of 1.40 m×2.50 m and is made of glass 6.00 mm thick. On a winter day, the outside temperature is -17.0 ∘C, while the inside temperature is a comfortable 19.5 ∘C.\n",
        "\n",
        "Part A\n",
        "At what rate is heat being lost through the window by conduction?\n",
        "Express your answer in watts.\n",
        "\n",
        "Part B\n",
        "At what rate would heat be lost through the window if you covered it with a 0.750 mm thick layer of paper (thermal conductivity 0.0500 W/m⋅K)?\n",
        "Express your answer in watts."
      ],
      "metadata": {
        "id": "kbYBP967Z9wQ"
      }
    },
    {
      "cell_type": "code",
      "source": [
        "A = 1.4 * 2.5 # m^2\n",
        "Lglass = .006 # m\n",
        "tempAir = -17.0 # Celc.\n",
        "tempRoom = 19.5 # Celc.\n",
        "\n",
        "H = ( thermal_conductivity['glass'] * A * (tempRoom - tempAir) ) / Lglass\n",
        "H\n",
        "\n",
        "Lpaper = 0.00075 # m\n",
        "\n",
        "Rglass = Lglass / thermal_conductivity['glass']\n",
        "Rpaper = Lpaper / thermal_conductivity['paper']\n",
        "\n",
        "Hgl_pp = (A * (tempRoom - tempAir) ) / ( Rglass + Rpaper )\n",
        "\n",
        "Hgl_pp"
      ],
      "metadata": {
        "colab": {
          "base_uri": "https://localhost:8080/"
        },
        "id": "-JEUwXXdaHBb",
        "outputId": "3f156924-242f-4175-a533-a446752876f2"
      },
      "execution_count": null,
      "outputs": [
        {
          "output_type": "execute_result",
          "data": {
            "text/plain": [
              "5677.777777777778"
            ]
          },
          "metadata": {},
          "execution_count": 15
        }
      ]
    },
    {
      "cell_type": "markdown",
      "source": [
        "You are asked to design a cylindrical steel rod 60.0 cm long, with a circular cross section, that will conduct 180.0 J/s from a furnace at 400.0 ∘C to a container of boiling water under 1 atmosphere.\n",
        "Part A\n",
        "What must the rod's diameter be?"
      ],
      "metadata": {
        "id": "jjoO7VjnWOtn"
      }
    },
    {
      "cell_type": "code",
      "source": [
        "L = 0.6 # m\n",
        "H = 180 # Joules / Sec\n",
        "tempFurnace = 400.0 # Celc.\n",
        "tempWater = 100 # Celc.\n",
        "\n",
        "\n",
        "## H = k * A * (tHigh - tLow) / L\n",
        "## (L* H) / ( k *(tHigh - tLow)) =  A \n",
        "\n",
        "A = (L* H) / ( thermal_conductivity['steel'] *(tempFurnace - tempWater))\n",
        "#           r^2\n",
        "diameter = ((A/PI)**0.5)*2\n",
        "diameter\n"
      ],
      "metadata": {
        "colab": {
          "base_uri": "https://localhost:8080/"
        },
        "id": "mXm1UkKlWTTt",
        "outputId": "da40cd9c-c8f1-48d5-9485-386fb6999600"
      },
      "execution_count": null,
      "outputs": [
        {
          "output_type": "execute_result",
          "data": {
            "text/plain": [
              "0.09555526792643967"
            ]
          },
          "metadata": {},
          "execution_count": 12
        }
      ]
    },
    {
      "cell_type": "markdown",
      "source": [
        "A pot with a steel bottom 9.00 mm thick rests on a hot stove. The area of the bottom of the pot is 0.110 m2. The water inside the pot is at 100.0∘C, and 0.360 kg are evaporated every 5.00 m.\n",
        "\n",
        "Part A\n",
        "Find the temperature of the lower surface of the pot, which is in contact with the stove."
      ],
      "metadata": {
        "id": "YBY--HfjSkfi"
      }
    },
    {
      "cell_type": "code",
      "source": [
        "A = 0.11 # m^2\n",
        "L = 0.009 # m\n",
        "mWaterEvap = 0.36\n",
        "t = 5*60#sec\n",
        "tempWater = 100 #Celcious\n",
        "\n",
        "Q = mWaterEvap * heat_of_vaporization[\"water\"]\n",
        "\n",
        "Power = Q/t # Watts\n",
        "\n",
        "Power##EQUAL TO H\n",
        "\n",
        "## Pwr = k * A * (tHigh - tLow->tempWater) / L\n",
        "## L* Pwr = k * A * (tHigh - tLow) aka delta T\n",
        "## L* Pwr / k * A =  tHigh - tLow\n",
        "## ( L* Pwr / k * A) + tLow =  tHigh \n",
        "\n",
        "tempStove = ( (L* Power) / (thermal_conductivity[\"steel\"] * A) ) + tempWater\n",
        "\n",
        "tempStove"
      ],
      "metadata": {
        "colab": {
          "base_uri": "https://localhost:8080/"
        },
        "id": "vpEHoWucSRLM",
        "outputId": "e6bb9d59-7a4d-4d1c-a705-b5fff56977ab"
      },
      "execution_count": null,
      "outputs": [
        {
          "output_type": "execute_result",
          "data": {
            "text/plain": [
              "104.41231437884824"
            ]
          },
          "metadata": {},
          "execution_count": 7
        }
      ]
    }
  ]
}