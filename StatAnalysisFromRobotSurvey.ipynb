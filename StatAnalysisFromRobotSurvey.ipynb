{
  "nbformat": 4,
  "nbformat_minor": 0,
  "metadata": {
    "colab": {
      "name": "StatAnalysisFromRobotSurvey.ipynb",
      "provenance": [],
      "authorship_tag": "ABX9TyM/Ru+obgQJYQjP4+MuzRif",
      "include_colab_link": true
    },
    "kernelspec": {
      "name": "python3",
      "display_name": "Python 3"
    },
    "language_info": {
      "name": "python"
    }
  },
  "cells": [
    {
      "cell_type": "markdown",
      "metadata": {
        "id": "view-in-github",
        "colab_type": "text"
      },
      "source": [
        "<a href=\"https://colab.research.google.com/github/Johnnykoch02/GoogleCollabStuff/blob/main/StatAnalysisFromRobotSurvey.ipynb\" target=\"_parent\"><img src=\"https://colab.research.google.com/assets/colab-badge.svg\" alt=\"Open In Colab\"/></a>"
      ]
    },
    {
      "cell_type": "markdown",
      "metadata": {
        "id": "KwCqzS6YVN-n"
      },
      "source": [
        "# Statistical Analysis for Mache-A Group 9 Robot Survey\n",
        "!Link to survey[https://docs.google.com/forms/d/e/1FAIpQLSc-hkpib2pIyQOgOtSbklaDyEfdLvUS0URPTTxKEEjWjXwPPg/viewform?usp=sf_link]\n"
      ]
    },
    {
      "cell_type": "code",
      "metadata": {
        "id": "pGibolOVWmKb"
      },
      "source": [
        "import pandas as pd\n",
        "import matplotlib.pyplot as plt\n",
        "import numpy as np\n",
        "import statistics"
      ],
      "execution_count": 3,
      "outputs": []
    },
    {
      "cell_type": "code",
      "metadata": {
        "colab": {
          "base_uri": "https://localhost:8080/",
          "height": 640
        },
        "id": "n653nx_oXWHj",
        "outputId": "79d80ae6-1a95-4920-e5e8-126089f83084"
      },
      "source": [
        "data = pd.read_excel('./SurveyDataGroup9.xlsx')\n",
        "data.head()"
      ],
      "execution_count": 79,
      "outputs": [
        {
          "output_type": "execute_result",
          "data": {
            "text/html": [
              "<div>\n",
              "<style scoped>\n",
              "    .dataframe tbody tr th:only-of-type {\n",
              "        vertical-align: middle;\n",
              "    }\n",
              "\n",
              "    .dataframe tbody tr th {\n",
              "        vertical-align: top;\n",
              "    }\n",
              "\n",
              "    .dataframe thead th {\n",
              "        text-align: right;\n",
              "    }\n",
              "</style>\n",
              "<table border=\"1\" class=\"dataframe\">\n",
              "  <thead>\n",
              "    <tr style=\"text-align: right;\">\n",
              "      <th></th>\n",
              "      <th>Timestamp</th>\n",
              "      <th>Name</th>\n",
              "      <th>Email</th>\n",
              "      <th>Age</th>\n",
              "      <th>What Vehicle Design is most exciting?</th>\n",
              "      <th>What Color do you prefer for the robot?</th>\n",
              "      <th>What size option would be best for the robot?</th>\n",
              "      <th>How important is portabity? (5= very important, 1=not at all important)</th>\n",
              "      <th>How important are cosmetic features? (LED Headlights, Racing Stripe, etc..)</th>\n",
              "      <th>On a scale of 1-5, how much do you like the current design? ( 1= not at all, 5= very much )</th>\n",
              "      <th>How much do you prioritize functionality and speed? ( 1= not at all, 5= very much )</th>\n",
              "      <th>How much does learning about the robot interest you after seeing it? (1= not at all, 5= very much)</th>\n",
              "      <th>Would you be interested in participating in a STEM field after seeing this robot? (1= not at all, 5= very much)</th>\n",
              "      <th>What is your favorite School Subject?</th>\n",
              "      <th>Is there any other advice you might have for our design team?</th>\n",
              "    </tr>\n",
              "  </thead>\n",
              "  <tbody>\n",
              "    <tr>\n",
              "      <th>0</th>\n",
              "      <td>2021-10-27 19:47:10.440</td>\n",
              "      <td>Harinee Sekar</td>\n",
              "      <td>harinee@usf.edu</td>\n",
              "      <td>12-17</td>\n",
              "      <td>Convertible</td>\n",
              "      <td>Blue</td>\n",
              "      <td>Medium (3’’ x 6’’)</td>\n",
              "      <td>5</td>\n",
              "      <td>2</td>\n",
              "      <td>3</td>\n",
              "      <td>5</td>\n",
              "      <td>3</td>\n",
              "      <td>2</td>\n",
              "      <td>Science</td>\n",
              "      <td>NaN</td>\n",
              "    </tr>\n",
              "    <tr>\n",
              "      <th>1</th>\n",
              "      <td>2021-10-27 19:48:43.686</td>\n",
              "      <td>Ibrahim</td>\n",
              "      <td>ibrahimz.saney@gmail.com</td>\n",
              "      <td>18-25</td>\n",
              "      <td>Coupe</td>\n",
              "      <td>Purple</td>\n",
              "      <td>Large (4.5’’ x 10’’)</td>\n",
              "      <td>3</td>\n",
              "      <td>5</td>\n",
              "      <td>3</td>\n",
              "      <td>4</td>\n",
              "      <td>5</td>\n",
              "      <td>4</td>\n",
              "      <td>Science</td>\n",
              "      <td>NaN</td>\n",
              "    </tr>\n",
              "    <tr>\n",
              "      <th>2</th>\n",
              "      <td>2021-10-27 19:49:22.373</td>\n",
              "      <td>Andrea Escobales</td>\n",
              "      <td>Andreaescobales@usf.edu</td>\n",
              "      <td>18-25</td>\n",
              "      <td>Coupe</td>\n",
              "      <td>Green</td>\n",
              "      <td>Medium (3’’ x 6’’)</td>\n",
              "      <td>4</td>\n",
              "      <td>3</td>\n",
              "      <td>4</td>\n",
              "      <td>4</td>\n",
              "      <td>5</td>\n",
              "      <td>3</td>\n",
              "      <td>History</td>\n",
              "      <td>NaN</td>\n",
              "    </tr>\n",
              "    <tr>\n",
              "      <th>3</th>\n",
              "      <td>2021-10-27 19:50:48.884</td>\n",
              "      <td>Jasmyn Mann</td>\n",
              "      <td>jasmynmann@usf.edu</td>\n",
              "      <td>18-25</td>\n",
              "      <td>Truck</td>\n",
              "      <td>Black</td>\n",
              "      <td>Medium (3’’ x 6’’)</td>\n",
              "      <td>4</td>\n",
              "      <td>3</td>\n",
              "      <td>4</td>\n",
              "      <td>5</td>\n",
              "      <td>4</td>\n",
              "      <td>3</td>\n",
              "      <td>Math</td>\n",
              "      <td>NaN</td>\n",
              "    </tr>\n",
              "    <tr>\n",
              "      <th>4</th>\n",
              "      <td>2021-10-27 20:07:03.997</td>\n",
              "      <td>Bella</td>\n",
              "      <td>Irfigueroa921@gmail.com</td>\n",
              "      <td>18-25</td>\n",
              "      <td>Convertible</td>\n",
              "      <td>Green</td>\n",
              "      <td>Small (2’’ x 4’’)</td>\n",
              "      <td>4</td>\n",
              "      <td>2</td>\n",
              "      <td>3</td>\n",
              "      <td>4</td>\n",
              "      <td>4</td>\n",
              "      <td>5</td>\n",
              "      <td>Science</td>\n",
              "      <td>No</td>\n",
              "    </tr>\n",
              "  </tbody>\n",
              "</table>\n",
              "</div>"
            ],
            "text/plain": [
              "                Timestamp  ... Is there any other advice you might have for our design team?\n",
              "0 2021-10-27 19:47:10.440  ...                                                NaN           \n",
              "1 2021-10-27 19:48:43.686  ...                                                NaN           \n",
              "2 2021-10-27 19:49:22.373  ...                                                NaN           \n",
              "3 2021-10-27 19:50:48.884  ...                                                NaN           \n",
              "4 2021-10-27 20:07:03.997  ...                                                 No           \n",
              "\n",
              "[5 rows x 15 columns]"
            ]
          },
          "metadata": {},
          "execution_count": 79
        }
      ]
    },
    {
      "cell_type": "code",
      "metadata": {
        "colab": {
          "base_uri": "https://localhost:8080/",
          "height": 471
        },
        "id": "yN8PzFNanFgi",
        "outputId": "00ccb306-094c-4b74-c19a-5873d44434d9"
      },
      "source": [
        "data.groupby('Age').count()"
      ],
      "execution_count": 68,
      "outputs": [
        {
          "output_type": "execute_result",
          "data": {
            "text/html": [
              "<div>\n",
              "<style scoped>\n",
              "    .dataframe tbody tr th:only-of-type {\n",
              "        vertical-align: middle;\n",
              "    }\n",
              "\n",
              "    .dataframe tbody tr th {\n",
              "        vertical-align: top;\n",
              "    }\n",
              "\n",
              "    .dataframe thead th {\n",
              "        text-align: right;\n",
              "    }\n",
              "</style>\n",
              "<table border=\"1\" class=\"dataframe\">\n",
              "  <thead>\n",
              "    <tr style=\"text-align: right;\">\n",
              "      <th></th>\n",
              "      <th>Timestamp</th>\n",
              "      <th>Name</th>\n",
              "      <th>Email</th>\n",
              "      <th>What Vehicle Design is most exciting?</th>\n",
              "      <th>What Color do you prefer for the robot?</th>\n",
              "      <th>What size option would be best for the robot?</th>\n",
              "      <th>How important is portabity? (5= very important, 1=not at all important)</th>\n",
              "      <th>How important are cosmetic features? (LED Headlights, Racing Stripe, etc..)</th>\n",
              "      <th>On a scale of 1-5, how much do you like the current design? ( 1= not at all, 5= very much )</th>\n",
              "      <th>How much do you prioritize functionality and speed? ( 1= not at all, 5= very much )</th>\n",
              "      <th>How much does learning about the robot interest you after seeing it? (1= not at all, 5= very much)</th>\n",
              "      <th>Would you be interested in participating in a STEM field after seeing this robot? (1= not at all, 5= very much)</th>\n",
              "      <th>What is your favorite School Subject?</th>\n",
              "      <th>Is there any other advice you might have for our design team?</th>\n",
              "      <th>Age Bracket</th>\n",
              "    </tr>\n",
              "    <tr>\n",
              "      <th>Age</th>\n",
              "      <th></th>\n",
              "      <th></th>\n",
              "      <th></th>\n",
              "      <th></th>\n",
              "      <th></th>\n",
              "      <th></th>\n",
              "      <th></th>\n",
              "      <th></th>\n",
              "      <th></th>\n",
              "      <th></th>\n",
              "      <th></th>\n",
              "      <th></th>\n",
              "      <th></th>\n",
              "      <th></th>\n",
              "      <th></th>\n",
              "    </tr>\n",
              "  </thead>\n",
              "  <tbody>\n",
              "    <tr>\n",
              "      <th>2</th>\n",
              "      <td>1</td>\n",
              "      <td>1</td>\n",
              "      <td>1</td>\n",
              "      <td>1</td>\n",
              "      <td>1</td>\n",
              "      <td>1</td>\n",
              "      <td>1</td>\n",
              "      <td>1</td>\n",
              "      <td>1</td>\n",
              "      <td>1</td>\n",
              "      <td>1</td>\n",
              "      <td>1</td>\n",
              "      <td>1</td>\n",
              "      <td>1</td>\n",
              "      <td>1</td>\n",
              "    </tr>\n",
              "    <tr>\n",
              "      <th>12-17</th>\n",
              "      <td>3</td>\n",
              "      <td>3</td>\n",
              "      <td>3</td>\n",
              "      <td>3</td>\n",
              "      <td>3</td>\n",
              "      <td>3</td>\n",
              "      <td>3</td>\n",
              "      <td>3</td>\n",
              "      <td>3</td>\n",
              "      <td>3</td>\n",
              "      <td>3</td>\n",
              "      <td>3</td>\n",
              "      <td>3</td>\n",
              "      <td>0</td>\n",
              "      <td>3</td>\n",
              "    </tr>\n",
              "    <tr>\n",
              "      <th>18-25</th>\n",
              "      <td>22</td>\n",
              "      <td>22</td>\n",
              "      <td>22</td>\n",
              "      <td>22</td>\n",
              "      <td>22</td>\n",
              "      <td>22</td>\n",
              "      <td>22</td>\n",
              "      <td>22</td>\n",
              "      <td>22</td>\n",
              "      <td>22</td>\n",
              "      <td>22</td>\n",
              "      <td>22</td>\n",
              "      <td>22</td>\n",
              "      <td>9</td>\n",
              "      <td>22</td>\n",
              "    </tr>\n",
              "  </tbody>\n",
              "</table>\n",
              "</div>"
            ],
            "text/plain": [
              "       Timestamp  ...  Age Bracket\n",
              "Age               ...             \n",
              "2              1  ...            1\n",
              "12-17          3  ...            3\n",
              "18-25         22  ...           22\n",
              "\n",
              "[3 rows x 15 columns]"
            ]
          },
          "metadata": {},
          "execution_count": 68
        }
      ]
    },
    {
      "cell_type": "code",
      "metadata": {
        "colab": {
          "base_uri": "https://localhost:8080/",
          "height": 285
        },
        "id": "QrzGxaFBYCHM",
        "outputId": "0de80555-f23d-439c-a4ef-1b3cb02278f2"
      },
      "source": [
        "color_chart = {}\n",
        "for color in data['What Color do you prefer for the robot?']:\n",
        "  if color not in color_chart:\n",
        "    color_chart.update({color: 1})\n",
        "  else:\n",
        "    color_chart[color] +=1\n",
        "colors= []\n",
        "numppl = []\n",
        "for val in color_chart.keys():\n",
        "  colors.append(val)\n",
        "  numppl.append(color_chart[val])\n",
        "labels = []\n",
        "for option in range(len(numppl)):\n",
        "  labels.append('{}\\n% of Pool: {:.2f}\\n'.format(colors[option], ((color_chart.get(colors[option])/len(dset))*100)))\n",
        "pie = plt.pie(numppl, labels=labels, colors=colors)\n",
        "plt.title('What Color do you prefer for the robot?')\n",
        "plt.show()\n",
        "print()"
      ],
      "execution_count": 81,
      "outputs": [
        {
          "output_type": "display_data",
          "data": {
            "image/png": "[encoded data removed]",
            "text/plain": [
              "<Figure size 432x288 with 1 Axes>"
            ]
          },
          "metadata": {}
        },
        {
          "output_type": "stream",
          "name": "stdout",
          "text": [
            "\n"
          ]
        }
      ]
    },
    {
      "cell_type": "code",
      "metadata": {
        "colab": {
          "base_uri": "https://localhost:8080/",
          "height": 282
        },
        "id": "pQTA11IbZ9dC",
        "outputId": "9719faec-cd2b-4a80-de5c-8aee7c1cb882"
      },
      "source": [
        "size = {}\n",
        "dset = data['What size option would be best for the robot?']\n",
        "for opt in dset:\n",
        "  if opt not in size:\n",
        "    size.update({opt: 1})\n",
        "  else:\n",
        "    size[opt] +=1\n",
        "opt = []\n",
        "numppl = []\n",
        "for val in size.keys():\n",
        "  opt.append(val)\n",
        "  numppl.append(size[val])\n",
        "\n",
        "for option in range(len(opt)):\n",
        "  opt[option] = '{}\\n% of Pool: {:.2f}\\n'.format(opt[option], \n",
        "                                          ((size.get(opt[option])/len(dset))*100))\n",
        "pie = plt.pie(numppl, labels=opt)\n",
        "plt.title('What size option would be best for the robot?')\n",
        "plt.show()\n",
        "print()"
      ],
      "execution_count": 6,
      "outputs": [
        {
          "output_type": "display_data",
          "data": {
            "image/png": "[encoded data removed]",
            "text/plain": [
              "<Figure size 432x288 with 1 Axes>"
            ]
          },
          "metadata": {}
        },
        {
          "output_type": "stream",
          "name": "stdout",
          "text": [
            "\n"
          ]
        }
      ]
    },
    {
      "cell_type": "code",
      "metadata": {
        "colab": {
          "base_uri": "https://localhost:8080/",
          "height": 373
        },
        "id": "nx_VeK1texb6",
        "outputId": "b61df8a8-1743-423b-c10c-5b4776843b2c"
      },
      "source": [
        "size = {}\n",
        "dset = data['How important is portabity? (5= very important, 1=not at all important)']\n",
        "for opt in dset:\n",
        "  if opt not in size:\n",
        "    size.update({opt: 1})\n",
        "  else:\n",
        "    size[opt] +=1\n",
        "opt = []\n",
        "numppl = []\n",
        "for val in size.keys():\n",
        "  opt.append(val)\n",
        "  numppl.append(size[val])\n",
        "\n",
        "for option in range(len(opt)):\n",
        "  opt[option] = '{}\\n% of Pool: {:.2f}\\n'.format(opt[option], \n",
        "                                          ((size.get(opt[option])/len(dset))*100))\n",
        "pie = plt.pie(numppl, labels=opt)\n",
        "plt.title('How important is portabity?(5=very important, 1=not at all important)')\n",
        "plt.show()\n",
        "print('Mean: {}\\nMode: {}\\nMedian: {}\\nFrom {} to {}\\nStandard Deviation: {:.6f}'.format(dset.mean(),statistics.mode(dset),dset.median(),min(dset), max(dset), dset.std()))\n",
        "print()"
      ],
      "execution_count": 7,
      "outputs": [
        {
          "output_type": "display_data",
          "data": {
            "image/png": "[encoded data removed]",
            "text/plain": [
              "<Figure size 432x288 with 1 Axes>"
            ]
          },
          "metadata": {}
        },
        {
          "output_type": "stream",
          "name": "stdout",
          "text": [
            "Mean: 3.64\n",
            "Mode: 4\n",
            "Median: 4.0\n",
            "From 1 to 5\n",
            "Standard Deviation: 1.220656\n",
            "\n"
          ]
        }
      ]
    },
    {
      "cell_type": "code",
      "metadata": {
        "colab": {
          "base_uri": "https://localhost:8080/",
          "height": 373
        },
        "id": "szdNyNHVlSrh",
        "outputId": "43bf44aa-30c5-4252-dd3c-5e495e78c328"
      },
      "source": [
        "size = {}\n",
        "dset = data['How important are cosmetic features? (LED Headlights, Racing Stripe, etc..)']\n",
        "for opt in dset:\n",
        "  if opt not in size:\n",
        "    size.update({opt: 1})\n",
        "  else:\n",
        "    size[opt] +=1\n",
        "opt = []\n",
        "numppl = []\n",
        "for val in size.keys():\n",
        "  opt.append(val)\n",
        "  numppl.append(size[val])\n",
        "\n",
        "for option in range(len(opt)):\n",
        "  opt[option] = '{}\\n% of Pool: {:.2f}\\n'.format(opt[option], \n",
        "                                          ((size.get(opt[option])/len(dset))*100))\n",
        "pie = plt.pie(numppl, labels=opt)\n",
        "plt.title('How important are cosmetic features?')\n",
        "plt.show()\n",
        "print('Mean: {}\\nMode: {}\\nMedian: {}\\nFrom {} to {}\\nStandard Deviation: {:.6f}'.format(dset.mean(),statistics.mode(dset),dset.median(),min(dset), max(dset), dset.std()))\n",
        "print()"
      ],
      "execution_count": 8,
      "outputs": [
        {
          "output_type": "display_data",
          "data": {
            "image/png": "[encoded data removed]",
            "text/plain": [
              "<Figure size 432x288 with 1 Axes>"
            ]
          },
          "metadata": {}
        },
        {
          "output_type": "stream",
          "name": "stdout",
          "text": [
            "Mean: 3.44\n",
            "Mode: 3\n",
            "Median: 3.0\n",
            "From 2 to 5\n",
            "Standard Deviation: 1.157584\n",
            "\n"
          ]
        }
      ]
    },
    {
      "cell_type": "code",
      "metadata": {
        "colab": {
          "base_uri": "https://localhost:8080/",
          "height": 377
        },
        "id": "NcAu5rrmlwd9",
        "outputId": "7b3bd176-1c8a-4e30-d4e8-16d3b54eb0e9"
      },
      "source": [
        "size = {}\n",
        "dset = data['On a scale of 1-5, how much do you like the current design? ( 1= not at all, 5= very much )']\n",
        "for opt in dset:\n",
        "  if opt not in size:\n",
        "    size.update({opt: 1})\n",
        "  else:\n",
        "    size[opt] +=1\n",
        "opt = []\n",
        "numppl = []\n",
        "for val in size.keys():\n",
        "  opt.append(val)\n",
        "  numppl.append(size[val])\n",
        "\n",
        "for option in range(len(opt)):\n",
        "  opt[option] = '{}\\n% of Pool: {:.2f}\\n'.format(opt[option], \n",
        "                                          ((size.get(opt[option])/len(dset))*100))\n",
        "pie = plt.pie(numppl, labels=opt)\n",
        "plt.title('On a scale of 1-5, how much do you like the current design?')\n",
        "plt.show()\n",
        "print('Mean: {}\\nMode: {}\\nMedian: {}\\nFrom {} to {}\\nStandard Deviation: {:.6f}'.format(dset.mean(),statistics.mode(dset),dset.median(),min(dset), max(dset), dset.std()))\n",
        "print()"
      ],
      "execution_count": 9,
      "outputs": [
        {
          "output_type": "display_data",
          "data": {
            "image/png": "[encoded data removed]",
            "text/plain": [
              "<Figure size 432x288 with 1 Axes>"
            ]
          },
          "metadata": {}
        },
        {
          "output_type": "stream",
          "name": "stdout",
          "text": [
            "Mean: 3.28\n",
            "Mode: 4\n",
            "Median: 4.0\n",
            "From 1 to 5\n",
            "Standard Deviation: 1.242310\n",
            "\n"
          ]
        }
      ]
    },
    {
      "cell_type": "code",
      "metadata": {
        "colab": {
          "base_uri": "https://localhost:8080/",
          "height": 373
        },
        "id": "QhldOhi_mIBz",
        "outputId": "634e81ba-f589-494c-ac5a-cae5864f63df"
      },
      "source": [
        "size = {}\n",
        "dset = data['How much do you prioritize functionality and speed? ( 1= not at all, 5= very much )']\n",
        "for opt in dset:\n",
        "  if opt not in size:\n",
        "    size.update({opt: 1})\n",
        "  else:\n",
        "    size[opt] +=1\n",
        "opt = []\n",
        "numppl = []\n",
        "for val in size.keys():\n",
        "  opt.append(val)\n",
        "  numppl.append(size[val])\n",
        "\n",
        "for option in range(len(opt)):\n",
        "  opt[option] = '{}\\n% of Pool: {:.2f}\\n'.format(opt[option], \n",
        "                                          ((size.get(opt[option])/len(dset))*100))\n",
        "pie = plt.pie(numppl, labels=opt)\n",
        "plt.title('How much do you prioritize functionality and speed?')\n",
        "plt.show()\n",
        "print('Mean: {}\\nMode: {}\\nMedian: {}\\nFrom {} to {}\\nStandard Deviation: {:.6f}'.format(dset.mean(),statistics.mode(dset),dset.median(),min(dset), max(dset), dset.std()))\n",
        "print()"
      ],
      "execution_count": 10,
      "outputs": [
        {
          "output_type": "display_data",
          "data": {
            "image/png": "[encoded data removed]",
            "text/plain": [
              "<Figure size 432x288 with 1 Axes>"
            ]
          },
          "metadata": {}
        },
        {
          "output_type": "stream",
          "name": "stdout",
          "text": [
            "Mean: 4.64\n",
            "Mode: 5\n",
            "Median: 5.0\n",
            "From 3 to 5\n",
            "Standard Deviation: 0.568624\n",
            "\n"
          ]
        }
      ]
    },
    {
      "cell_type": "code",
      "metadata": {
        "colab": {
          "base_uri": "https://localhost:8080/",
          "height": 373
        },
        "id": "gpOZC4G4mZ8y",
        "outputId": "b5476cde-bd3a-47ba-8d01-68b4f399c879"
      },
      "source": [
        "size = {}\n",
        "dset = data['How much does learning about the robot interest you after seeing it? (1= not at all, 5= very much)']\n",
        "for opt in dset:\n",
        "  if opt not in size:\n",
        "    size.update({opt: 1})\n",
        "  else:\n",
        "    size[opt] +=1\n",
        "opt = []\n",
        "numppl = []\n",
        "for val in size.keys():\n",
        "  opt.append(val)\n",
        "  numppl.append(size[val])\n",
        "\n",
        "for option in range(len(opt)):\n",
        "  opt[option] = '{}\\n% of Pool: {:.2f}\\n'.format(opt[option], \n",
        "                                          ((size.get(opt[option])/len(dset))*100))\n",
        "pie = plt.pie(numppl, labels=opt)\n",
        "plt.title('How much does learning about the robot interest you after seeing it?')\n",
        "plt.show()\n",
        "print('Mean: {}\\nMode: {}\\nMedian: {}\\nFrom {} to {}\\nStandard Deviation: {:.6f}'.format(dset.mean(),statistics.mode(dset),dset.median(),min(dset), max(dset), dset.std()))\n",
        "print()"
      ],
      "execution_count": 11,
      "outputs": [
        {
          "output_type": "display_data",
          "data": {
            "image/png": "[encoded data removed]",
            "text/plain": [
              "<Figure size 432x288 with 1 Axes>"
            ]
          },
          "metadata": {}
        },
        {
          "output_type": "stream",
          "name": "stdout",
          "text": [
            "Mean: 3.32\n",
            "Mode: 5\n",
            "Median: 4.0\n",
            "From 1 to 5\n",
            "Standard Deviation: 1.492202\n",
            "\n"
          ]
        }
      ]
    },
    {
      "cell_type": "code",
      "metadata": {
        "colab": {
          "base_uri": "https://localhost:8080/",
          "height": 282
        },
        "id": "7I6TGKB0mqmD",
        "outputId": "0cc07457-2329-4cae-823e-b68034de0f40"
      },
      "source": [
        "color_chart = {}\n",
        "\n",
        "for color in data['What is your favorite School Subject?']:\n",
        "  if color not in color_chart:\n",
        "    color_chart.update({color: 1})\n",
        "  else:\n",
        "    color_chart[color] +=1\n",
        "colors= []\n",
        "numppl = []\n",
        "for val in color_chart.keys():\n",
        "  colors.append(val)\n",
        "  numppl.append(color_chart[val])\n",
        "pie = plt.pie(numppl, labels=colors,colors=['green', 'purple', 'red', 'blue', 'orange'])\n",
        "plt.title('What is your favorite School Subject?')\n",
        "print()"
      ],
      "execution_count": 12,
      "outputs": [
        {
          "output_type": "stream",
          "name": "stdout",
          "text": [
            "\n"
          ]
        },
        {
          "output_type": "display_data",
          "data": {
            "image/png": "[encoded data removed]",
            "text/plain": [
              "<Figure size 432x288 with 1 Axes>"
            ]
          },
          "metadata": {}
        }
      ]
    },
    {
      "cell_type": "markdown",
      "metadata": {
        "id": "QfouWS0GOT3h"
      },
      "source": [
        "#Lets check what percentage of people interested in science and math that were interested in our robot\n"
      ]
    },
    {
      "cell_type": "code",
      "metadata": {
        "colab": {
          "base_uri": "https://localhost:8080/",
          "height": 478
        },
        "id": "_IDREvxAOBv_",
        "outputId": "1224b30c-0b9e-4f6e-d9d8-7edbb1587336"
      },
      "source": [
        "by_subject = data.groupby(['What is your favorite School Subject?']).mean()\n",
        "\n",
        "by_subject"
      ],
      "execution_count": 26,
      "outputs": [
        {
          "output_type": "execute_result",
          "data": {
            "text/html": [
              "<div>\n",
              "<style scoped>\n",
              "    .dataframe tbody tr th:only-of-type {\n",
              "        vertical-align: middle;\n",
              "    }\n",
              "\n",
              "    .dataframe tbody tr th {\n",
              "        vertical-align: top;\n",
              "    }\n",
              "\n",
              "    .dataframe thead th {\n",
              "        text-align: right;\n",
              "    }\n",
              "</style>\n",
              "<table border=\"1\" class=\"dataframe\">\n",
              "  <thead>\n",
              "    <tr style=\"text-align: right;\">\n",
              "      <th></th>\n",
              "      <th>How important is portabity? (5= very important, 1=not at all important)</th>\n",
              "      <th>How important are cosmetic features? (LED Headlights, Racing Stripe, etc..)</th>\n",
              "      <th>On a scale of 1-5, how much do you like the current design? ( 1= not at all, 5= very much )</th>\n",
              "      <th>How much do you prioritize functionality and speed? ( 1= not at all, 5= very much )</th>\n",
              "      <th>How much does learning about the robot interest you after seeing it? (1= not at all, 5= very much)</th>\n",
              "      <th>Would you be interested in participating in a STEM field after seeing this robot? (1= not at all, 5= very much)</th>\n",
              "    </tr>\n",
              "    <tr>\n",
              "      <th>What is your favorite School Subject?</th>\n",
              "      <th></th>\n",
              "      <th></th>\n",
              "      <th></th>\n",
              "      <th></th>\n",
              "      <th></th>\n",
              "      <th></th>\n",
              "    </tr>\n",
              "  </thead>\n",
              "  <tbody>\n",
              "    <tr>\n",
              "      <th>Arts</th>\n",
              "      <td>5.000000</td>\n",
              "      <td>2.000000</td>\n",
              "      <td>3.000000</td>\n",
              "      <td>5.000000</td>\n",
              "      <td>3.500000</td>\n",
              "      <td>2.000000</td>\n",
              "    </tr>\n",
              "    <tr>\n",
              "      <th>History</th>\n",
              "      <td>3.500000</td>\n",
              "      <td>3.250000</td>\n",
              "      <td>3.000000</td>\n",
              "      <td>4.500000</td>\n",
              "      <td>3.500000</td>\n",
              "      <td>2.000000</td>\n",
              "    </tr>\n",
              "    <tr>\n",
              "      <th>Language</th>\n",
              "      <td>4.000000</td>\n",
              "      <td>2.000000</td>\n",
              "      <td>3.000000</td>\n",
              "      <td>5.000000</td>\n",
              "      <td>3.000000</td>\n",
              "      <td>2.000000</td>\n",
              "    </tr>\n",
              "    <tr>\n",
              "      <th>Math</th>\n",
              "      <td>3.400000</td>\n",
              "      <td>3.800000</td>\n",
              "      <td>3.400000</td>\n",
              "      <td>4.600000</td>\n",
              "      <td>3.600000</td>\n",
              "      <td>3.600000</td>\n",
              "    </tr>\n",
              "    <tr>\n",
              "      <th>Science</th>\n",
              "      <td>3.538462</td>\n",
              "      <td>3.692308</td>\n",
              "      <td>3.384615</td>\n",
              "      <td>4.615385</td>\n",
              "      <td>3.153846</td>\n",
              "      <td>2.846154</td>\n",
              "    </tr>\n",
              "  </tbody>\n",
              "</table>\n",
              "</div>"
            ],
            "text/plain": [
              "                                       How important is portabity? (5= very important, 1=not at all important)  ...  Would you be interested in participating in a STEM field after seeing this robot? (1= not at all, 5= very much)\n",
              "What is your favorite School Subject?                                                                           ...                                                                                                                 \n",
              "Arts                                                                            5.000000                        ...                                           2.000000                                                              \n",
              "History                                                                         3.500000                        ...                                           2.000000                                                              \n",
              "Language                                                                        4.000000                        ...                                           2.000000                                                              \n",
              "Math                                                                            3.400000                        ...                                           3.600000                                                              \n",
              "Science                                                                         3.538462                        ...                                           2.846154                                                              \n",
              "\n",
              "[5 rows x 6 columns]"
            ]
          },
          "metadata": {},
          "execution_count": 26
        }
      ]
    },
    {
      "cell_type": "code",
      "metadata": {
        "colab": {
          "base_uri": "https://localhost:8080/",
          "height": 350
        },
        "id": "XoZlx32Pv5HH",
        "outputId": "1ccfceb3-d1ad-4035-dcf6-234857d11695"
      },
      "source": [
        "by_age = data.groupby(['Age']).mean()\n",
        "by_age"
      ],
      "execution_count": 84,
      "outputs": [
        {
          "output_type": "execute_result",
          "data": {
            "text/html": [
              "<div>\n",
              "<style scoped>\n",
              "    .dataframe tbody tr th:only-of-type {\n",
              "        vertical-align: middle;\n",
              "    }\n",
              "\n",
              "    .dataframe tbody tr th {\n",
              "        vertical-align: top;\n",
              "    }\n",
              "\n",
              "    .dataframe thead th {\n",
              "        text-align: right;\n",
              "    }\n",
              "</style>\n",
              "<table border=\"1\" class=\"dataframe\">\n",
              "  <thead>\n",
              "    <tr style=\"text-align: right;\">\n",
              "      <th></th>\n",
              "      <th>How important is portabity? (5= very important, 1=not at all important)</th>\n",
              "      <th>How important are cosmetic features? (LED Headlights, Racing Stripe, etc..)</th>\n",
              "      <th>On a scale of 1-5, how much do you like the current design? ( 1= not at all, 5= very much )</th>\n",
              "      <th>How much do you prioritize functionality and speed? ( 1= not at all, 5= very much )</th>\n",
              "      <th>How much does learning about the robot interest you after seeing it? (1= not at all, 5= very much)</th>\n",
              "      <th>Would you be interested in participating in a STEM field after seeing this robot? (1= not at all, 5= very much)</th>\n",
              "    </tr>\n",
              "    <tr>\n",
              "      <th>Age</th>\n",
              "      <th></th>\n",
              "      <th></th>\n",
              "      <th></th>\n",
              "      <th></th>\n",
              "      <th></th>\n",
              "      <th></th>\n",
              "    </tr>\n",
              "  </thead>\n",
              "  <tbody>\n",
              "    <tr>\n",
              "      <th>12-17</th>\n",
              "      <td>4.666667</td>\n",
              "      <td>2.000000</td>\n",
              "      <td>3.000000</td>\n",
              "      <td>5.000000</td>\n",
              "      <td>2.666667</td>\n",
              "      <td>2.000000</td>\n",
              "    </tr>\n",
              "    <tr>\n",
              "      <th>18-25</th>\n",
              "      <td>3.500000</td>\n",
              "      <td>3.636364</td>\n",
              "      <td>3.318182</td>\n",
              "      <td>4.590909</td>\n",
              "      <td>3.409091</td>\n",
              "      <td>2.863636</td>\n",
              "    </tr>\n",
              "  </tbody>\n",
              "</table>\n",
              "</div>"
            ],
            "text/plain": [
              "       How important is portabity? (5= very important, 1=not at all important)  ...  Would you be interested in participating in a STEM field after seeing this robot? (1= not at all, 5= very much)\n",
              "Age                                                                             ...                                                                                                                 \n",
              "12-17                                           4.666667                        ...                                           2.000000                                                              \n",
              "18-25                                           3.500000                        ...                                           2.863636                                                              \n",
              "\n",
              "[2 rows x 6 columns]"
            ]
          },
          "metadata": {},
          "execution_count": 84
        }
      ]
    },
    {
      "cell_type": "markdown",
      "metadata": {
        "id": "5zFI9g1RaIFL"
      },
      "source": [
        "#STEM involves mathematics and applied science, so I am going to see how well we were able to draw the attention of people interested in STEM"
      ]
    },
    {
      "cell_type": "code",
      "metadata": {
        "id": "PNXDh4djO-_W"
      },
      "source": [
        "STEM_kids = data.loc[(data['What is your favorite School Subject?'] == 'Math') | (data['What is your favorite School Subject?'] == 'Science')]\n"
      ],
      "execution_count": 56,
      "outputs": []
    },
    {
      "cell_type": "code",
      "metadata": {
        "colab": {
          "base_uri": "https://localhost:8080/",
          "height": 295
        },
        "id": "70zgATpEbgE0",
        "outputId": "1191671a-5e01-4dbe-9802-d6395aae464b"
      },
      "source": [
        "plt.scatter(range(1, len(STEM_kids['Name'])+1),STEM_kids['How much does learning about the robot interest you after seeing it? (1= not at all, 5= very much)'])\n",
        "plt.xticks(np.linspace(1,len(STEM_kids['Name']), len(STEM_kids['Name'])))\n",
        "plt.ylabel('Interest in Project (1= not at all, 5= very much)')\n",
        "\n",
        "print()"
      ],
      "execution_count": 55,
      "outputs": [
        {
          "output_type": "stream",
          "name": "stdout",
          "text": [
            "\n"
          ]
        },
        {
          "output_type": "display_data",
          "data": {
            "image/png": "[encoded data removed]",
            "text/plain": [
              "<Figure size 432x288 with 1 Axes>"
            ]
          },
          "metadata": {
            "needs_background": "light"
          }
        }
      ]
    },
    {
      "cell_type": "code",
      "metadata": {
        "colab": {
          "base_uri": "https://localhost:8080/",
          "height": 290
        },
        "id": "S47mbonLemK0",
        "outputId": "76ec863a-9082-4a4c-9098-37194889fdcb"
      },
      "source": [
        "plt.scatter(range(1, len(STEM_kids['Name'])+1),STEM_kids['Would you be interested in participating in a STEM field after seeing this robot? (1= not at all, 5= very much)'])\n",
        "plt.xticks(np.linspace(1,len(STEM_kids['Name']), len(STEM_kids['Name'])))\n",
        "plt.ylabel('Interest in STEM (1= not at all, 5= very much)')\n",
        "\n",
        "print()"
      ],
      "execution_count": 57,
      "outputs": [
        {
          "output_type": "stream",
          "name": "stdout",
          "text": [
            "\n"
          ]
        },
        {
          "output_type": "display_data",
          "data": {
            "image/png": "[encoded data removed]",
            "text/plain": [
              "<Figure size 432x288 with 1 Axes>"
            ]
          },
          "metadata": {
            "needs_background": "light"
          }
        }
      ]
    }
  ]
}